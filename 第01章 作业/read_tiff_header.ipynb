{
 "cells": [
  {
   "cell_type": "code",
   "execution_count": 1,
   "metadata": {},
   "outputs": [
    {
     "data": {
      "text/plain": [
       "({'Byte Order': 'Little Endian', 'Version': 42, 'First IFD Offset': 8},\n",
       " {'Byte Order': 'Little Endian', 'Version': 42, 'First IFD Offset': 8})"
      ]
     },
     "execution_count": 1,
     "metadata": {},
     "output_type": "execute_result"
    }
   ],
   "source": [
    "import struct\n",
    "from pathlib import Path\n",
    "\n",
    "PATH = Path.cwd()\n",
    "\n",
    "\n",
    "def read_file_header(file_path, n=256):\n",
    "    with open(file_path, \"rb\") as f:\n",
    "        return f.read(n)\n",
    "\n",
    "\n",
    "def parse_tiff_header(header_bytes):\n",
    "    byte_order = header_bytes[0:2]\n",
    "    if byte_order == b\"II\":\n",
    "        byte_order = \"Little Endian\"\n",
    "    elif byte_order == b\"MM\":\n",
    "        byte_order = \"Big Endian\"\n",
    "    else:\n",
    "        byte_order = \"Unknown\"\n",
    "    version = struct.unpack_from(\"<H\", header_bytes, 2)[0]\n",
    "    first_ifd_offset = struct.unpack_from(\"<I\", header_bytes, 4)[0]\n",
    "    return {\n",
    "        \"Byte Order\": byte_order,\n",
    "        \"Version\": version,\n",
    "        \"First IFD Offset\": first_ifd_offset,\n",
    "    }\n",
    "\n",
    "\n",
    "header_lenna01 = read_file_header(PATH / \"Lenna01.tiff\")\n",
    "header_lenna02 = read_file_header(PATH / \"Lenna02.tiff\")\n",
    "parsed_header_lenna01 = parse_tiff_header(header_lenna01)\n",
    "parsed_header_lenna02 = parse_tiff_header(header_lenna02)\n",
    "\n",
    "parsed_header_lenna01, parsed_header_lenna02"
   ]
  },
  {
   "cell_type": "code",
   "execution_count": 2,
   "metadata": {},
   "outputs": [
    {
     "data": {
      "text/plain": [
       "([{'Tag': 254, 'Type': 4, 'Count': 1, 'Value_Offset': 0},\n",
       "  {'Tag': 256, 'Type': 3, 'Count': 1, 'Value_Offset': 512},\n",
       "  {'Tag': 257, 'Type': 3, 'Count': 1, 'Value_Offset': 512},\n",
       "  {'Tag': 258, 'Type': 3, 'Count': 1, 'Value_Offset': 8},\n",
       "  {'Tag': 259, 'Type': 3, 'Count': 1, 'Value_Offset': 1},\n",
       "  {'Tag': 262, 'Type': 3, 'Count': 1, 'Value_Offset': 1},\n",
       "  {'Tag': 273, 'Type': 4, 'Count': 1, 'Value_Offset': 25202},\n",
       "  {'Tag': 274, 'Type': 3, 'Count': 1, 'Value_Offset': 1},\n",
       "  {'Tag': 277, 'Type': 3, 'Count': 1, 'Value_Offset': 1},\n",
       "  {'Tag': 278, 'Type': 3, 'Count': 1, 'Value_Offset': 512},\n",
       "  {'Tag': 279, 'Type': 4, 'Count': 1, 'Value_Offset': 262144},\n",
       "  {'Tag': 282, 'Type': 5, 'Count': 1, 'Value_Offset': 254},\n",
       "  {'Tag': 283, 'Type': 5, 'Count': 1, 'Value_Offset': 262},\n",
       "  {'Tag': 296, 'Type': 3, 'Count': 1, 'Value_Offset': 2},\n",
       "  {'Tag': 305, 'Type': 2, 'Count': 31, 'Value_Offset': 270},\n",
       "  {'Tag': 306, 'Type': 2, 'Count': 20, 'Value_Offset': 302},\n",
       "  {'Tag': 700, 'Type': 1, 'Count': 15083, 'Value_Offset': 322},\n",
       "  {'Tag': 34377, 'Type': 1, 'Count': 8884, 'Value_Offset': 15406},\n",
       "  {'Tag': 34665, 'Type': 4, 'Count': 1, 'Value_Offset': 287348},\n",
       "  {'Tag': 34675, 'Type': 7, 'Count': 912, 'Value_Offset': 24290}],\n",
       " 0,\n",
       " [{'Tag': 254, 'Type': 4, 'Count': 1, 'Value_Offset': 0},\n",
       "  {'Tag': 256, 'Type': 3, 'Count': 1, 'Value_Offset': 512},\n",
       "  {'Tag': 257, 'Type': 3, 'Count': 1, 'Value_Offset': 512},\n",
       "  {'Tag': 258, 'Type': 3, 'Count': 1, 'Value_Offset': 1},\n",
       "  {'Tag': 259, 'Type': 3, 'Count': 1, 'Value_Offset': 1},\n",
       "  {'Tag': 262, 'Type': 3, 'Count': 1, 'Value_Offset': 0},\n",
       "  {'Tag': 273, 'Type': 4, 'Count': 1, 'Value_Offset': 26830},\n",
       "  {'Tag': 274, 'Type': 3, 'Count': 1, 'Value_Offset': 1},\n",
       "  {'Tag': 277, 'Type': 3, 'Count': 1, 'Value_Offset': 1},\n",
       "  {'Tag': 278, 'Type': 3, 'Count': 1, 'Value_Offset': 512},\n",
       "  {'Tag': 279, 'Type': 4, 'Count': 1, 'Value_Offset': 32768},\n",
       "  {'Tag': 282, 'Type': 5, 'Count': 1, 'Value_Offset': 242},\n",
       "  {'Tag': 283, 'Type': 5, 'Count': 1, 'Value_Offset': 250},\n",
       "  {'Tag': 296, 'Type': 3, 'Count': 1, 'Value_Offset': 2},\n",
       "  {'Tag': 305, 'Type': 2, 'Count': 31, 'Value_Offset': 258},\n",
       "  {'Tag': 306, 'Type': 2, 'Count': 20, 'Value_Offset': 290},\n",
       "  {'Tag': 700, 'Type': 1, 'Count': 15016, 'Value_Offset': 310},\n",
       "  {'Tag': 34377, 'Type': 1, 'Count': 11504, 'Value_Offset': 15326},\n",
       "  {'Tag': 34665, 'Type': 4, 'Count': 1, 'Value_Offset': 59600}],\n",
       " 0)"
      ]
     },
     "execution_count": 2,
     "metadata": {},
     "output_type": "execute_result"
    }
   ],
   "source": [
    "def parse_ifd_entry(entry_bytes, byte_order_format):\n",
    "    tag, typ, count, value_offset = struct.unpack(\n",
    "        byte_order_format + \"HHII\", entry_bytes\n",
    "    )\n",
    "    return {\"Tag\": tag, \"Type\": typ, \"Count\": count, \"Value_Offset\": value_offset}\n",
    "\n",
    "\n",
    "def parse_ifd(header_bytes, offset, byte_order_format=\"<\"):\n",
    "    num_entries = struct.unpack_from(byte_order_format + \"H\", header_bytes, offset)[0]\n",
    "    offset += 2\n",
    "    entries = []\n",
    "    for _ in range(num_entries):\n",
    "        entry_bytes = header_bytes[offset : offset + 12]\n",
    "        entries.append(parse_ifd_entry(entry_bytes, byte_order_format))\n",
    "        offset += 12\n",
    "    next_ifd_offset = struct.unpack_from(byte_order_format + \"I\", header_bytes, offset)[\n",
    "        0\n",
    "    ]\n",
    "    return entries, next_ifd_offset\n",
    "\n",
    "\n",
    "byte_order_format = \"<\"\n",
    "parsed_ifd_lenna01, next_ifd_offset_lenna01 = parse_ifd(\n",
    "    header_lenna01, parsed_header_lenna01[\"First IFD Offset\"], byte_order_format\n",
    ")\n",
    "parsed_ifd_lenna02, next_ifd_offset_lenna02 = parse_ifd(\n",
    "    header_lenna02, parsed_header_lenna02[\"First IFD Offset\"], byte_order_format\n",
    ")\n",
    "\n",
    "parsed_ifd_lenna01, next_ifd_offset_lenna01, parsed_ifd_lenna02, next_ifd_offset_lenna02"
   ]
  }
 ],
 "metadata": {
  "kernelspec": {
   "display_name": "Python 3",
   "language": "python",
   "name": "python3"
  },
  "language_info": {
   "codemirror_mode": {
    "name": "ipython",
    "version": 3
   },
   "file_extension": ".py",
   "mimetype": "text/x-python",
   "name": "python",
   "nbconvert_exporter": "python",
   "pygments_lexer": "ipython3",
   "version": "3.10.4"
  },
  "orig_nbformat": 4
 },
 "nbformat": 4,
 "nbformat_minor": 2
}
