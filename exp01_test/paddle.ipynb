{
 "cells": [
  {
   "cell_type": "markdown",
   "execution_count": null,
   "id": "95ce1553",
   "metadata": {
    "collapsed": false,
    "papermill": {
     "duration": 0.00702,
     "end_time": "2023-10-16T02:43:02.223833",
     "exception": false,
     "start_time": "2023-10-16T02:43:02.216813",
     "status": "completed"
    },
    "tags": []
   },
   "outputs": null,
   "source": [
    "**GOALS挑战赛任务一基线**  \n",
    "\n",
    "赛题链接：MICCAI2022 Challenge: GOALS (Task 1)\n",
    "https://aistudio.baidu.com/aistudio/competition/detail/230/0/introduction \n"
   ]
  },
  {
   "cell_type": "markdown",
   "execution_count": null,
   "id": "4d2e4853",
   "metadata": {
    "collapsed": false,
    "papermill": {
     "duration": 0.004161,
     "end_time": "2023-10-16T02:43:02.232991",
     "exception": false,
     "start_time": "2023-10-16T02:43:02.228830",
     "status": "completed"
    },
    "tags": []
   },
   "outputs": null,
   "source": [
    "**比赛简介**  \n",
    "\n",
    "GOALS挑战赛是由百度在MICCAI 2022上举办的国际眼科赛事。MICCAI是由国际医学图像计算和计算机辅助干预协会 (Medical Image Computing and Computer Assisted Intervention Society) 举办的跨医学影像计算和计算机辅助介入两个领域的综合性学术会议，是该领域的顶级会议。与此同时，百度将在MICCAI 2022上组织第九届眼科医学影像分析研讨会Ophthalmic Medical Image Analysis (OMIA9)。"
   ]
  },
  {
   "cell_type": "markdown",
   "execution_count": null,
   "id": "264f875b",
   "metadata": {
    "collapsed": false,
    "papermill": {
     "duration": 0.003997,
     "end_time": "2023-10-16T02:43:02.241294",
     "exception": false,
     "start_time": "2023-10-16T02:43:02.237297",
     "status": "completed"
    },
    "tags": []
   },
   "outputs": null,
   "source": [
    "**基线任务说明**    \n",
    "\n",
    "本基线对应GOALS比赛任务1，目的是在环扫OCT图像中分割视神经纤维层、神经节细胞丛层和脉络膜层区域。\n",
    "本基线使用了U型网络结构，并在编码和解码阶段加入了残差模块，模型结构如下图所示。\n",
    "![](https://ai-studio-static-online.cdn.bcebos.com/dc2e371fe6544123a77700563b85598660d3f09f006b4d6d8696d268d5b045c0)\n"
   ]
  },
  {
   "cell_type": "markdown",
   "execution_count": null,
   "id": "c9212c06",
   "metadata": {
    "collapsed": false,
    "papermill": {
     "duration": 0.00396,
     "end_time": "2023-10-16T02:43:02.249583",
     "exception": false,
     "start_time": "2023-10-16T02:43:02.245623",
     "status": "completed"
    },
    "tags": []
   },
   "outputs": null,
   "source": [
    "**数据集说明**  \n",
    "\n",
    "本基线使用的数据集为GOALS比赛释放的环扫OCT图像。代码中提供的读入数据仅供基线正常运行，并非完整比赛数据集。\n",
    "各位同学可通过报名GOALS比赛获得相应数据集。"
   ]
  },
  {
   "cell_type": "code",
   "execution_count": 1,
   "id": "7759445e",
   "metadata": {
    "collapsed": false,
    "execution": {
     "iopub.execute_input": "2023-10-16T02:43:02.268208Z",
     "iopub.status.busy": "2023-10-16T02:43:02.267529Z",
     "iopub.status.idle": "2023-10-16T02:43:05.425870Z",
     "shell.execute_reply": "2023-10-16T02:43:05.426343Z"
    },
    "papermill": {
     "duration": 3.172312,
     "end_time": "2023-10-16T02:43:05.426531",
     "exception": false,
     "start_time": "2023-10-16T02:43:02.254219",
     "status": "completed"
    },
    "tags": []
   },
   "outputs": [],
   "source": [
    "# 导入库\n",
    "import os\n",
    "import cv2\n",
    "import random\n",
    "import numpy as np\n",
    "import pandas as pd\n",
    "from sklearn.model_selection import train_test_split\n",
    "import matplotlib\n",
    "import matplotlib.pyplot as plt\n",
    "import paddle\n",
    "import paddle.nn as nn\n",
    "import paddle.nn.functional as F\n",
    "from paddle.io import Dataset"
   ]
  },
  {
   "cell_type": "code",
   "execution_count": 2,
   "id": "7e45e0df",
   "metadata": {
    "collapsed": false,
    "execution": {
     "iopub.execute_input": "2023-10-16T02:43:05.441606Z",
     "iopub.status.busy": "2023-10-16T02:43:05.441100Z",
     "iopub.status.idle": "2023-10-16T02:43:05.442902Z",
     "shell.execute_reply": "2023-10-16T02:43:05.443299Z"
    },
    "papermill": {
     "duration": 0.011705,
     "end_time": "2023-10-16T02:43:05.443434",
     "exception": false,
     "start_time": "2023-10-16T02:43:05.431729",
     "status": "completed"
    },
    "tags": []
   },
   "outputs": [],
   "source": [
    "### 设置参数\n",
    "images_file = 'work/Train/Image'  # 训练图像路径\n",
    "gt_file = 'work/Train/Layer_Masks'\n",
    "image_size = 256 # 输入图像统一尺寸\n",
    "val_ratio = 0.2  # 训练/验证图像划分比例\n",
    "BATCH_SIZE = 8 # 批大小\n",
    "iters = 3000 # 训练迭代次数\n",
    "optimizer_type = 'adam' # 优化器, 可自行使用其他优化器，如SGD, RMSprop,...\n",
    "num_workers = 4 # 数据加载处理器个数\n",
    "init_lr = 1e-3 # 初始学习率"
   ]
  },
  {
   "cell_type": "code",
   "execution_count": 3,
   "id": "4211ec27",
   "metadata": {
    "collapsed": false,
    "execution": {
     "iopub.execute_input": "2023-10-16T02:43:05.457546Z",
     "iopub.status.busy": "2023-10-16T02:43:05.456972Z",
     "iopub.status.idle": "2023-10-16T02:43:05.462272Z",
     "shell.execute_reply": "2023-10-16T02:43:05.461776Z"
    },
    "papermill": {
     "duration": 0.014513,
     "end_time": "2023-10-16T02:43:05.462428",
     "exception": false,
     "start_time": "2023-10-16T02:43:05.447915",
     "status": "completed"
    },
    "tags": []
   },
   "outputs": [
    {
     "name": "stdout",
     "output_type": "stream",
     "text": [
      "Total Nums: 100, train: 80, val: 20\n"
     ]
    }
   ],
   "source": [
    "# 训练/验证数据集划分\n",
    "filelists = os.listdir(images_file)\n",
    "train_filelists, val_filelists = train_test_split(filelists, test_size = val_ratio,random_state = 42)\n",
    "print(\"Total Nums: {}, train: {}, val: {}\".format(len(filelists), len(train_filelists), len(val_filelists)))"
   ]
  },
  {
   "cell_type": "code",
   "execution_count": 4,
   "id": "7a20fd24",
   "metadata": {
    "collapsed": false,
    "execution": {
     "iopub.execute_input": "2023-10-16T02:43:05.482925Z",
     "iopub.status.busy": "2023-10-16T02:43:05.482401Z",
     "iopub.status.idle": "2023-10-16T02:43:05.484446Z",
     "shell.execute_reply": "2023-10-16T02:43:05.484825Z"
    },
    "papermill": {
     "duration": 0.017062,
     "end_time": "2023-10-16T02:43:05.484965",
     "exception": false,
     "start_time": "2023-10-16T02:43:05.467903",
     "status": "completed"
    },
    "tags": []
   },
   "outputs": [],
   "source": [
    "### 从数据文件夹中加载眼底图像，提取相应的金标准，生成训练样本\n",
    "class OCTDataset(Dataset):\n",
    "    def __init__(self, image_file, gt_path=None, filelists=None,  mode='train'):\n",
    "        super(OCTDataset, self).__init__()\n",
    "        self.mode = mode\n",
    "        self.image_path = image_file\n",
    "        image_idxs = os.listdir(self.image_path) # 0001.png,\n",
    "        self.gt_path = gt_path\n",
    "        self.file_list = [image_idxs[i] for i in range(len(image_idxs))]\n",
    "        if filelists is not None:\n",
    "            self.file_list = [item for item in self.file_list if item in filelists]\n",
    "\n",
    "    def __getitem__(self, idx):\n",
    "        real_index = self.file_list[idx]\n",
    "        img_path = os.path.join(self.image_path, real_index)\n",
    "        img = cv2.imread(img_path)\n",
    "        h,w,c = img.shape\n",
    "        if self.mode == 'train':\n",
    "            gt_tmp_path = os.path.join(self.gt_path, real_index)\n",
    "            gt_img = cv2.imread(gt_tmp_path)\n",
    "\n",
    "            ### 像素值为0的是RNFL(类别 0)，像素值为80的是GCIPL(类别 1)，像素值为160的是脉络膜(类别 2)，像素值为255的是其他（类别3）。\n",
    "\n",
    "            gt_img[gt_img == 80] = 1\n",
    "            gt_img[gt_img == 160] = 2\n",
    "            gt_img[gt_img == 255] = 3\n",
    "            gt_img = cv2.resize(gt_img,(image_size, image_size))\n",
    "            gt_img = gt_img[:,:,1]\n",
    "            # print('gt shape', gt_img.shape)\n",
    "\n",
    "        img_re = cv2.resize(img,(image_size, image_size))\n",
    "        img = img_re.transpose(2, 0, 1) # H, W, C -> C, H, W\n",
    "        # print(img.shape)\n",
    "        # img = img_re.astype(np.float32)\n",
    "\n",
    "        if self.mode == 'test':\n",
    "            ### 在测试过程中，加载数据返回眼底图像，数据名称，原始图像的高度和宽度\n",
    "            return img, real_index, h, w\n",
    "\n",
    "        if self.mode == 'train':\n",
    "            ###在训练过程中，加载数据返回眼底图像及其相应的金标准\n",
    "            return img, gt_img\n",
    "\n",
    "    def __len__(self):\n",
    "        return len(self.file_list)"
   ]
  },
  {
   "cell_type": "markdown",
   "execution_count": null,
   "id": "8491d3e7",
   "metadata": {
    "collapsed": false,
    "papermill": {
     "duration": 0.004389,
     "end_time": "2023-10-16T02:43:05.494064",
     "exception": false,
     "start_time": "2023-10-16T02:43:05.489675",
     "status": "completed"
    },
    "tags": []
   },
   "outputs": null,
   "source": [
    "**网络模型**  \n",
    "\n",
    "本基线使用模型为UNet。U-NET是一种U形网络结构，可以分为两个大阶段。首先编码器对图像进行采样，得到高级语义特征图，然后解码器对图像进行采样，将特征图恢复到原始图像的分辨率。UNet详情可参阅https://www.paddlepaddle.org.cn/documentation/docs/zh/tutorial/cv_case/image_segmentation/image_segmentation.html"
   ]
  },
  {
   "cell_type": "code",
   "execution_count": 5,
   "id": "959e3b81",
   "metadata": {
    "collapsed": false,
    "execution": {
     "iopub.execute_input": "2023-10-16T02:43:05.524114Z",
     "iopub.status.busy": "2023-10-16T02:43:05.515846Z",
     "iopub.status.idle": "2023-10-16T02:43:05.525823Z",
     "shell.execute_reply": "2023-10-16T02:43:05.526179Z"
    },
    "papermill": {
     "duration": 0.027559,
     "end_time": "2023-10-16T02:43:05.526321",
     "exception": false,
     "start_time": "2023-10-16T02:43:05.498762",
     "status": "completed"
    },
    "tags": []
   },
   "outputs": [],
   "source": [
    "class SeparableConv2D(nn.Layer):\n",
    "    def __init__(self,\n",
    "                 in_channels,\n",
    "                 out_channels,\n",
    "                 kernel_size,\n",
    "                 stride=1,\n",
    "                 padding=0,\n",
    "                 dilation=1,\n",
    "                 groups=None,\n",
    "                 weight_attr=None,\n",
    "                 bias_attr=None,\n",
    "                 data_format=\"NCHW\"):\n",
    "        super(SeparableConv2D, self).__init__()\n",
    "\n",
    "        self._padding = padding\n",
    "        self._stride = stride\n",
    "        self._dilation = dilation\n",
    "        self._in_channels = in_channels\n",
    "        self._data_format = data_format\n",
    "\n",
    "        # 第一次卷积参数，没有偏置参数\n",
    "        filter_shape = [in_channels, 1] + self.convert_to_list(kernel_size, 2, 'kernel_size')\n",
    "        self.weight_conv = self.create_parameter(shape=filter_shape, attr=weight_attr)\n",
    "\n",
    "        # 第二次卷积参数\n",
    "        filter_shape = [out_channels, in_channels] + self.convert_to_list(1, 2, 'kernel_size')\n",
    "        self.weight_pointwise = self.create_parameter(shape=filter_shape, attr=weight_attr)\n",
    "        self.bias_pointwise = self.create_parameter(shape=[out_channels],\n",
    "                                                    attr=bias_attr,\n",
    "                                                    is_bias=True)\n",
    "\n",
    "    def convert_to_list(self, value, n, name, dtype=np.int):\n",
    "        if isinstance(value, dtype):\n",
    "            return [value, ] * n\n",
    "        else:\n",
    "            try:\n",
    "                value_list = list(value)\n",
    "            except TypeError:\n",
    "                raise ValueError(\"The \" + name +\n",
    "                                \"'s type must be list or tuple. Received: \" + str(\n",
    "                                    value))\n",
    "            if len(value_list) != n:\n",
    "                raise ValueError(\"The \" + name + \"'s length must be \" + str(n) +\n",
    "                                \". Received: \" + str(value))\n",
    "            for single_value in value_list:\n",
    "                try:\n",
    "                    dtype(single_value)\n",
    "                except (ValueError, TypeError):\n",
    "                    raise ValueError(\n",
    "                        \"The \" + name + \"'s type must be a list or tuple of \" + str(\n",
    "                            n) + \" \" + str(dtype) + \" . Received: \" + str(\n",
    "                                value) + \" \"\n",
    "                        \"including element \" + str(single_value) + \" of type\" + \" \"\n",
    "                        + str(type(single_value)))\n",
    "            return value_list\n",
    "\n",
    "    def forward(self, inputs):\n",
    "        conv_out = F.conv2d(inputs,\n",
    "                            self.weight_conv,\n",
    "                            padding=self._padding,\n",
    "                            stride=self._stride,\n",
    "                            dilation=self._dilation,\n",
    "                            groups=self._in_channels,\n",
    "                            data_format=self._data_format)\n",
    "\n",
    "        out = F.conv2d(conv_out,\n",
    "                       self.weight_pointwise,\n",
    "                       bias=self.bias_pointwise,\n",
    "                       padding=0,\n",
    "                       stride=1,\n",
    "                       dilation=1,\n",
    "                       groups=1,\n",
    "                       data_format=self._data_format)\n",
    "\n",
    "        return out\n",
    "\n",
    "\n",
    "class Encoder(nn.Layer):\n",
    "    def __init__(self, in_channels, out_channels):\n",
    "        super(Encoder, self).__init__()\n",
    "\n",
    "        self.relus = nn.LayerList(\n",
    "            [nn.ReLU() for i in range(2)])\n",
    "        self.separable_conv_01 = SeparableConv2D(in_channels,\n",
    "                                                 out_channels,\n",
    "                                                 kernel_size=3,\n",
    "                                                 padding='same')\n",
    "        self.bns = nn.LayerList(\n",
    "            [nn.BatchNorm2D(out_channels) for i in range(2)])\n",
    "\n",
    "        self.separable_conv_02 = SeparableConv2D(out_channels,\n",
    "                                                 out_channels,\n",
    "                                                 kernel_size=3,\n",
    "                                                 padding='same')\n",
    "        self.pool = nn.MaxPool2D(kernel_size=3, stride=2, padding=1)\n",
    "        self.residual_conv = nn.Conv2D(in_channels,\n",
    "                                        out_channels,\n",
    "                                        kernel_size=1,\n",
    "                                        stride=2,\n",
    "                                        padding='same')\n",
    "\n",
    "    def forward(self, inputs):\n",
    "        previous_block_activation = inputs\n",
    "\n",
    "        y = self.relus[0](inputs)\n",
    "        y = self.separable_conv_01(y)\n",
    "        y = self.bns[0](y)\n",
    "        y = self.relus[1](y)\n",
    "        y = self.separable_conv_02(y)\n",
    "        y = self.bns[1](y)\n",
    "        y = self.pool(y)\n",
    "\n",
    "        residual = self.residual_conv(previous_block_activation)\n",
    "        y = paddle.add(y, residual)\n",
    "\n",
    "        return y\n",
    "\n",
    "class Decoder(nn.Layer):\n",
    "    def __init__(self, in_channels, out_channels):\n",
    "        super(Decoder, self).__init__()\n",
    "\n",
    "        self.relus = nn.LayerList(\n",
    "            [nn.ReLU() for i in range(2)])\n",
    "        self.conv_transpose_01 = nn.Conv2DTranspose(in_channels,\n",
    "                                                           out_channels,\n",
    "                                                           kernel_size=3,\n",
    "                                                           padding=1)\n",
    "        self.conv_transpose_02 = nn.Conv2DTranspose(out_channels,\n",
    "                                                           out_channels,\n",
    "                                                           kernel_size=3,\n",
    "                                                           padding=1)\n",
    "        self.bns = nn.LayerList(\n",
    "            [nn.BatchNorm2D(out_channels) for i in range(2)]\n",
    "        )\n",
    "        self.upsamples = nn.LayerList(\n",
    "            [nn.Upsample(scale_factor=2.0) for i in range(2)]\n",
    "        )\n",
    "        self.residual_conv = nn.Conv2D(in_channels,\n",
    "                                        out_channels,\n",
    "                                        kernel_size=1,\n",
    "                                        padding='same')\n",
    "\n",
    "    def forward(self, inputs):\n",
    "        previous_block_activation = inputs\n",
    "\n",
    "        y = self.relus[0](inputs)\n",
    "        y = self.conv_transpose_01(y)\n",
    "        y = self.bns[0](y)\n",
    "        y = self.relus[1](y)\n",
    "        y = self.conv_transpose_02(y)\n",
    "        y = self.bns[1](y)\n",
    "        y = self.upsamples[0](y)\n",
    "\n",
    "        residual = self.upsamples[1](previous_block_activation)\n",
    "        residual = self.residual_conv(residual)\n",
    "\n",
    "        y = paddle.add(y, residual)\n",
    "\n",
    "        return y"
   ]
  },
  {
   "cell_type": "code",
   "execution_count": 6,
   "id": "cbd1a368",
   "metadata": {
    "collapsed": false,
    "execution": {
     "iopub.execute_input": "2023-10-16T02:43:05.542996Z",
     "iopub.status.busy": "2023-10-16T02:43:05.542045Z",
     "iopub.status.idle": "2023-10-16T02:43:05.545160Z",
     "shell.execute_reply": "2023-10-16T02:43:05.544784Z"
    },
    "papermill": {
     "duration": 0.014347,
     "end_time": "2023-10-16T02:43:05.545257",
     "exception": false,
     "start_time": "2023-10-16T02:43:05.530910",
     "status": "completed"
    },
    "tags": []
   },
   "outputs": [],
   "source": [
    "class OCT_Layer_UNet(nn.Layer):\n",
    "    def __init__(self, num_classes):\n",
    "        super(OCT_Layer_UNet, self).__init__()\n",
    "\n",
    "        self.conv_1 = nn.Conv2D(3, 32,\n",
    "                                kernel_size=3,\n",
    "                                stride=2,\n",
    "                                padding='same')\n",
    "        self.bn = nn.BatchNorm2D(32)\n",
    "        self.relu = nn.ReLU()\n",
    "\n",
    "        in_channels = 32\n",
    "        self.encoders = []\n",
    "        self.encoder_list = [64, 128, 256]\n",
    "        self.decoder_list = [256, 128, 64, 32]\n",
    "\n",
    "        # 根据下采样个数和配置循环定义子Layer，避免重复写一样的程序\n",
    "        for out_channels in self.encoder_list:\n",
    "            block = self.add_sublayer('encoder_{}'.format(out_channels),\n",
    "                                      Encoder(in_channels, out_channels))\n",
    "            self.encoders.append(block)\n",
    "            in_channels = out_channels\n",
    "\n",
    "        self.decoders = []\n",
    "\n",
    "        # 根据上采样个数和配置循环定义子Layer，避免重复写一样的程序\n",
    "        for out_channels in self.decoder_list:\n",
    "            block = self.add_sublayer('decoder_{}'.format(out_channels),\n",
    "                                      Decoder(in_channels, out_channels))\n",
    "            self.decoders.append(block)\n",
    "            in_channels = out_channels\n",
    "\n",
    "        self.output_conv = nn.Conv2D(in_channels,\n",
    "                                            num_classes,\n",
    "                                            kernel_size=3,\n",
    "                                            padding='same')\n",
    "\n",
    "    def forward(self, inputs):\n",
    "        y = self.conv_1(inputs)\n",
    "        y = self.bn(y)\n",
    "        y = self.relu(y)\n",
    "\n",
    "        for encoder in self.encoders:\n",
    "            y = encoder(y)\n",
    "\n",
    "        for decoder in self.decoders:\n",
    "            y = decoder(y)\n",
    "\n",
    "        y = self.output_conv(y)\n",
    "        return y"
   ]
  },
  {
   "cell_type": "code",
   "execution_count": 7,
   "id": "81478b7e",
   "metadata": {
    "collapsed": false,
    "execution": {
     "iopub.execute_input": "2023-10-16T02:43:05.564499Z",
     "iopub.status.busy": "2023-10-16T02:43:05.563850Z",
     "iopub.status.idle": "2023-10-16T02:43:05.565833Z",
     "shell.execute_reply": "2023-10-16T02:43:05.566264Z"
    },
    "papermill": {
     "duration": 0.016674,
     "end_time": "2023-10-16T02:43:05.566445",
     "exception": false,
     "start_time": "2023-10-16T02:43:05.549771",
     "status": "completed"
    },
    "tags": []
   },
   "outputs": [],
   "source": [
    "class DiceLoss(nn.Layer):\n",
    "    \"\"\"\n",
    "    Implements the dice loss function.\n",
    "    Args:\n",
    "        ignore_index (int64): Specifies a target value that is ignored\n",
    "            and does not contribute to the input gradient. Default ``255``.\n",
    "    \"\"\"\n",
    "\n",
    "    def __init__(self, ignore_index=2):\n",
    "        super(DiceLoss, self).__init__()\n",
    "        self.ignore_index = ignore_index\n",
    "        self.eps = 1e-5\n",
    "\n",
    "    def forward(self, logits, labels):\n",
    "        if len(labels.shape) != len(logits.shape):\n",
    "            labels = paddle.unsqueeze(labels, 1)\n",
    "        num_classes = logits.shape[1]\n",
    "        mask = (labels != self.ignore_index)\n",
    "        logits = logits * mask\n",
    "        labels = paddle.cast(labels, dtype='int32')\n",
    "        single_label_lists = []\n",
    "        for c in range(num_classes):\n",
    "            single_label = paddle.cast((labels == c), dtype='int32')\n",
    "            single_label = paddle.squeeze(single_label, axis=1)\n",
    "            single_label_lists.append(single_label)\n",
    "        labels_one_hot = paddle.stack(tuple(single_label_lists), axis=1)\n",
    "        logits = F.softmax(logits, axis=1)\n",
    "        labels_one_hot = paddle.cast(labels_one_hot, dtype='float32')\n",
    "        dims = (0,) + tuple(range(2, labels.ndimension()))\n",
    "        intersection = paddle.sum(logits * labels_one_hot, dims)\n",
    "        cardinality = paddle.sum(logits + labels_one_hot, dims)\n",
    "        dice_loss = (2. * intersection / (cardinality + self.eps)).mean()\n",
    "        return dice_loss"
   ]
  },
  {
   "cell_type": "code",
   "execution_count": 8,
   "id": "98a6276c",
   "metadata": {
    "collapsed": false,
    "execution": {
     "iopub.execute_input": "2023-10-16T02:43:05.585918Z",
     "iopub.status.busy": "2023-10-16T02:43:05.585388Z",
     "iopub.status.idle": "2023-10-16T02:43:05.587091Z",
     "shell.execute_reply": "2023-10-16T02:43:05.587501Z"
    },
    "papermill": {
     "duration": 0.015869,
     "end_time": "2023-10-16T02:43:05.587645",
     "exception": false,
     "start_time": "2023-10-16T02:43:05.571776",
     "status": "completed"
    },
    "tags": []
   },
   "outputs": [],
   "source": [
    "### 训练函数\n",
    "\n",
    "def train(model, iters, train_dataloader, val_dataloader, optimizer, criterion, metric, log_interval, evl_interval):\n",
    "    iter = 0\n",
    "    model.train()\n",
    "    avg_loss_list = []\n",
    "    avg_dice_list = []\n",
    "    best_dice = 0.\n",
    "    while iter < iters:\n",
    "        for data in train_dataloader:\n",
    "            iter += 1\n",
    "            if iter > iters:\n",
    "                break\n",
    "            img = (data[0]/255.).astype(\"float32\")\n",
    "            gt_label = (data[1]).astype(\"int64\")\n",
    "            # print('label shape: ', gt_label.shape)\n",
    "            logits = model(img)\n",
    "            # print('logits shape: ', logits.shape)\n",
    "            loss = criterion(logits, gt_label)\n",
    "            # print('loss: ',loss)\n",
    "            dice = metric(logits, gt_label)\n",
    "            # print('dice: ', dice)\n",
    "\n",
    "            loss.backward()\n",
    "            optimizer.step()\n",
    "\n",
    "            model.clear_gradients()\n",
    "            avg_loss_list.append(loss.numpy()[0])\n",
    "            avg_dice_list.append(dice.numpy()[0])\n",
    "\n",
    "            if iter % log_interval == 0:\n",
    "                avg_loss = np.array(avg_loss_list).mean()\n",
    "                avg_dice = np.array(avg_dice_list).mean()\n",
    "                avg_loss_list = []\n",
    "                avg_dice_list = []\n",
    "                print(\"[TRAIN] iter={}/{} avg_loss={:.4f} avg_dice={:.4f}\".format(iter, iters, avg_loss, avg_dice))\n",
    "\n",
    "            if iter % evl_interval == 0:\n",
    "                avg_loss, avg_dice = val(model, val_dataloader)\n",
    "                print(\"[EVAL] iter={}/{} avg_loss={:.4f} dice={:.4f}\".format(iter, iters, avg_loss, avg_dice))\n",
    "                if avg_dice >= best_dice:\n",
    "                    best_dice = avg_dice\n",
    "                    paddle.save(model.state_dict(),\n",
    "                                os.path.join(\"work/task_models/best_model_{:.4f}\".format(best_dice), 'model.pdparams'))\n",
    "                model.train()"
   ]
  },
  {
   "cell_type": "code",
   "execution_count": 9,
   "id": "194167cb",
   "metadata": {
    "collapsed": false,
    "execution": {
     "iopub.execute_input": "2023-10-16T02:43:05.602542Z",
     "iopub.status.busy": "2023-10-16T02:43:05.602066Z",
     "iopub.status.idle": "2023-10-16T02:43:05.604469Z",
     "shell.execute_reply": "2023-10-16T02:43:05.604068Z"
    },
    "papermill": {
     "duration": 0.012064,
     "end_time": "2023-10-16T02:43:05.604574",
     "exception": false,
     "start_time": "2023-10-16T02:43:05.592510",
     "status": "completed"
    },
    "tags": []
   },
   "outputs": [],
   "source": [
    "### 验证函数\n",
    "\n",
    "def val(model, val_dataloader):\n",
    "    model.eval()\n",
    "    avg_loss_list = []\n",
    "    avg_dice_list = []\n",
    "    with paddle.no_grad():\n",
    "        for data in val_dataloader:\n",
    "            img = (data[0] / 255.).astype(\"float32\")\n",
    "            gt_label = (data[1]).astype(\"int64\")\n",
    "\n",
    "            pred = model(img)\n",
    "            loss = criterion(pred, gt_label)\n",
    "            dice = metric (pred, gt_label)\n",
    "\n",
    "            avg_loss_list.append(loss.numpy()[0])\n",
    "            avg_dice_list.append(dice.numpy()[0])\n",
    "\n",
    "    avg_loss = np.array(avg_loss_list).mean()\n",
    "    avg_dice = np.array(avg_dice_list).mean()\n",
    "\n",
    "    return avg_loss, avg_dice"
   ]
  },
  {
   "cell_type": "code",
   "execution_count": 10,
   "id": "6caf0484",
   "metadata": {
    "collapsed": false,
    "execution": {
     "iopub.execute_input": "2023-10-16T02:43:05.619597Z",
     "iopub.status.busy": "2023-10-16T02:43:05.619089Z",
     "iopub.status.idle": "2023-10-16T02:50:12.006586Z",
     "shell.execute_reply": "2023-10-16T02:50:12.007043Z"
    },
    "papermill": {
     "duration": 426.398148,
     "end_time": "2023-10-16T02:50:12.007211",
     "exception": false,
     "start_time": "2023-10-16T02:43:05.609063",
     "status": "completed"
    },
    "tags": []
   },
   "outputs": [
    {
     "name": "stderr",
     "output_type": "stream",
     "text": [
      "W1016 10:43:05.620479   362 gpu_resources.cc:61] Please NOTE: device: 0, GPU Compute Capability: 7.0, Driver API Version: 12.0, Runtime API Version: 11.2\n",
      "W1016 10:43:05.624274   362 gpu_resources.cc:91] device: 0, cuDNN Version: 8.2.\n"
     ]
    },
    {
     "name": "stderr",
     "output_type": "stream",
     "text": [
      "/opt/conda/envs/python35-paddle120-env/lib/python3.7/site-packages/paddle/nn/layer/norm.py:654: UserWarning: When training, we now always track global mean and variance.\n",
      "  \"When training, we now always track global mean and variance.\")\n",
      "/opt/conda/envs/python35-paddle120-env/lib/python3.7/site-packages/paddle/fluid/dygraph/math_op_patch.py:278: UserWarning: The dtype of left and right variables are not the same, left dtype is paddle.float32, but right dtype is paddle.bool, the right dtype will convert to paddle.float32\n",
      "  format(lhs_dtype, rhs_dtype, lhs_dtype))\n"
     ]
    },
    {
     "name": "stdout",
     "output_type": "stream",
     "text": [
      "[TRAIN] iter=10/3000 avg_loss=7.6466 avg_dice=0.3453\n"
     ]
    },
    {
     "name": "stdout",
     "output_type": "stream",
     "text": [
      "[TRAIN] iter=20/3000 avg_loss=1.8529 avg_dice=0.4694\n"
     ]
    },
    {
     "name": "stdout",
     "output_type": "stream",
     "text": [
      "[TRAIN] iter=30/3000 avg_loss=0.9796 avg_dice=0.5077\n"
     ]
    },
    {
     "name": "stdout",
     "output_type": "stream",
     "text": [
      "[TRAIN] iter=40/3000 avg_loss=0.5220 avg_dice=0.5306\n"
     ]
    },
    {
     "name": "stdout",
     "output_type": "stream",
     "text": [
      "[TRAIN] iter=50/3000 avg_loss=0.3675 avg_dice=0.5574\n"
     ]
    },
    {
     "name": "stdout",
     "output_type": "stream",
     "text": [
      "[EVAL] iter=50/3000 avg_loss=0.6715 dice=0.4777\n"
     ]
    },
    {
     "name": "stdout",
     "output_type": "stream",
     "text": [
      "[TRAIN] iter=60/3000 avg_loss=0.2903 avg_dice=0.5635\n"
     ]
    },
    {
     "name": "stdout",
     "output_type": "stream",
     "text": [
      "[TRAIN] iter=70/3000 avg_loss=0.2339 avg_dice=0.5735\n"
     ]
    },
    {
     "name": "stdout",
     "output_type": "stream",
     "text": [
      "[TRAIN] iter=80/3000 avg_loss=0.1872 avg_dice=0.5801\n"
     ]
    },
    {
     "name": "stdout",
     "output_type": "stream",
     "text": [
      "[TRAIN] iter=90/3000 avg_loss=0.1738 avg_dice=0.5813\n"
     ]
    },
    {
     "name": "stdout",
     "output_type": "stream",
     "text": [
      "[TRAIN] iter=100/3000 avg_loss=0.1489 avg_dice=0.5867\n"
     ]
    },
    {
     "name": "stdout",
     "output_type": "stream",
     "text": [
      "[EVAL] iter=100/3000 avg_loss=0.1529 dice=0.5761\n"
     ]
    },
    {
     "name": "stdout",
     "output_type": "stream",
     "text": [
      "[TRAIN] iter=110/3000 avg_loss=0.1398 avg_dice=0.5894\n"
     ]
    },
    {
     "name": "stdout",
     "output_type": "stream",
     "text": [
      "[TRAIN] iter=120/3000 avg_loss=0.1285 avg_dice=0.5962\n"
     ]
    },
    {
     "name": "stdout",
     "output_type": "stream",
     "text": [
      "[TRAIN] iter=130/3000 avg_loss=0.1187 avg_dice=0.5978\n"
     ]
    },
    {
     "name": "stdout",
     "output_type": "stream",
     "text": [
      "[TRAIN] iter=140/3000 avg_loss=0.1078 avg_dice=0.6036\n"
     ]
    },
    {
     "name": "stdout",
     "output_type": "stream",
     "text": [
      "[TRAIN] iter=150/3000 avg_loss=0.1003 avg_dice=0.6063\n"
     ]
    },
    {
     "name": "stdout",
     "output_type": "stream",
     "text": [
      "[EVAL] iter=150/3000 avg_loss=0.1157 dice=0.5994\n"
     ]
    },
    {
     "name": "stdout",
     "output_type": "stream",
     "text": [
      "[TRAIN] iter=160/3000 avg_loss=0.0940 avg_dice=0.6098\n"
     ]
    },
    {
     "name": "stdout",
     "output_type": "stream",
     "text": [
      "[TRAIN] iter=170/3000 avg_loss=0.0908 avg_dice=0.6121\n"
     ]
    },
    {
     "name": "stdout",
     "output_type": "stream",
     "text": [
      "[TRAIN] iter=180/3000 avg_loss=0.0877 avg_dice=0.6128\n"
     ]
    },
    {
     "name": "stdout",
     "output_type": "stream",
     "text": [
      "[TRAIN] iter=190/3000 avg_loss=0.0846 avg_dice=0.6116\n"
     ]
    },
    {
     "name": "stdout",
     "output_type": "stream",
     "text": [
      "[TRAIN] iter=200/3000 avg_loss=0.0831 avg_dice=0.6183\n"
     ]
    },
    {
     "name": "stdout",
     "output_type": "stream",
     "text": [
      "[EVAL] iter=200/3000 avg_loss=0.1080 dice=0.5922\n"
     ]
    },
    {
     "name": "stdout",
     "output_type": "stream",
     "text": [
      "[TRAIN] iter=210/3000 avg_loss=0.0777 avg_dice=0.6202\n"
     ]
    },
    {
     "name": "stdout",
     "output_type": "stream",
     "text": [
      "[TRAIN] iter=220/3000 avg_loss=0.0743 avg_dice=0.6221\n"
     ]
    },
    {
     "name": "stdout",
     "output_type": "stream",
     "text": [
      "[TRAIN] iter=230/3000 avg_loss=0.0717 avg_dice=0.6245\n"
     ]
    },
    {
     "name": "stdout",
     "output_type": "stream",
     "text": [
      "[TRAIN] iter=240/3000 avg_loss=0.0716 avg_dice=0.6256\n"
     ]
    },
    {
     "name": "stdout",
     "output_type": "stream",
     "text": [
      "[TRAIN] iter=250/3000 avg_loss=0.0691 avg_dice=0.6264\n"
     ]
    },
    {
     "name": "stdout",
     "output_type": "stream",
     "text": [
      "[EVAL] iter=250/3000 avg_loss=0.0885 dice=0.6126\n"
     ]
    },
    {
     "name": "stdout",
     "output_type": "stream",
     "text": [
      "[TRAIN] iter=260/3000 avg_loss=0.0673 avg_dice=0.6287\n"
     ]
    },
    {
     "name": "stdout",
     "output_type": "stream",
     "text": [
      "[TRAIN] iter=270/3000 avg_loss=0.0664 avg_dice=0.6300\n"
     ]
    },
    {
     "name": "stdout",
     "output_type": "stream",
     "text": [
      "[TRAIN] iter=280/3000 avg_loss=0.0687 avg_dice=0.6309\n"
     ]
    },
    {
     "name": "stdout",
     "output_type": "stream",
     "text": [
      "[TRAIN] iter=290/3000 avg_loss=0.0674 avg_dice=0.6317\n"
     ]
    },
    {
     "name": "stdout",
     "output_type": "stream",
     "text": [
      "[TRAIN] iter=300/3000 avg_loss=0.0610 avg_dice=0.6332\n"
     ]
    },
    {
     "name": "stdout",
     "output_type": "stream",
     "text": [
      "[EVAL] iter=300/3000 avg_loss=0.0840 dice=0.6174\n"
     ]
    },
    {
     "name": "stdout",
     "output_type": "stream",
     "text": [
      "[TRAIN] iter=310/3000 avg_loss=0.0603 avg_dice=0.6337\n"
     ]
    },
    {
     "name": "stdout",
     "output_type": "stream",
     "text": [
      "[TRAIN] iter=320/3000 avg_loss=0.0576 avg_dice=0.6377\n"
     ]
    },
    {
     "name": "stdout",
     "output_type": "stream",
     "text": [
      "[TRAIN] iter=330/3000 avg_loss=0.0556 avg_dice=0.6374\n"
     ]
    },
    {
     "name": "stdout",
     "output_type": "stream",
     "text": [
      "[TRAIN] iter=340/3000 avg_loss=0.0546 avg_dice=0.6398\n"
     ]
    },
    {
     "name": "stdout",
     "output_type": "stream",
     "text": [
      "[TRAIN] iter=350/3000 avg_loss=0.0524 avg_dice=0.6409\n"
     ]
    },
    {
     "name": "stdout",
     "output_type": "stream",
     "text": [
      "[EVAL] iter=350/3000 avg_loss=0.0921 dice=0.6214\n"
     ]
    },
    {
     "name": "stdout",
     "output_type": "stream",
     "text": [
      "[TRAIN] iter=360/3000 avg_loss=0.0523 avg_dice=0.6413\n"
     ]
    },
    {
     "name": "stdout",
     "output_type": "stream",
     "text": [
      "[TRAIN] iter=370/3000 avg_loss=0.0485 avg_dice=0.6450\n"
     ]
    },
    {
     "name": "stdout",
     "output_type": "stream",
     "text": [
      "[TRAIN] iter=380/3000 avg_loss=0.0494 avg_dice=0.6450\n"
     ]
    },
    {
     "name": "stdout",
     "output_type": "stream",
     "text": [
      "[TRAIN] iter=390/3000 avg_loss=0.0528 avg_dice=0.6436\n"
     ]
    },
    {
     "name": "stdout",
     "output_type": "stream",
     "text": [
      "[TRAIN] iter=400/3000 avg_loss=0.0504 avg_dice=0.6441\n"
     ]
    },
    {
     "name": "stdout",
     "output_type": "stream",
     "text": [
      "[EVAL] iter=400/3000 avg_loss=0.0796 dice=0.6298\n"
     ]
    },
    {
     "name": "stdout",
     "output_type": "stream",
     "text": [
      "[TRAIN] iter=410/3000 avg_loss=0.0470 avg_dice=0.6484\n"
     ]
    },
    {
     "name": "stdout",
     "output_type": "stream",
     "text": [
      "[TRAIN] iter=420/3000 avg_loss=0.0456 avg_dice=0.6505\n"
     ]
    },
    {
     "name": "stdout",
     "output_type": "stream",
     "text": [
      "[TRAIN] iter=430/3000 avg_loss=0.0445 avg_dice=0.6490\n"
     ]
    },
    {
     "name": "stdout",
     "output_type": "stream",
     "text": [
      "[TRAIN] iter=440/3000 avg_loss=0.0450 avg_dice=0.6521\n"
     ]
    },
    {
     "name": "stdout",
     "output_type": "stream",
     "text": [
      "[TRAIN] iter=450/3000 avg_loss=0.0461 avg_dice=0.6500\n"
     ]
    },
    {
     "name": "stdout",
     "output_type": "stream",
     "text": [
      "[EVAL] iter=450/3000 avg_loss=0.0756 dice=0.6305\n"
     ]
    },
    {
     "name": "stdout",
     "output_type": "stream",
     "text": [
      "[TRAIN] iter=460/3000 avg_loss=0.0443 avg_dice=0.6503\n"
     ]
    },
    {
     "name": "stdout",
     "output_type": "stream",
     "text": [
      "[TRAIN] iter=470/3000 avg_loss=0.0442 avg_dice=0.6545\n"
     ]
    },
    {
     "name": "stdout",
     "output_type": "stream",
     "text": [
      "[TRAIN] iter=480/3000 avg_loss=0.0438 avg_dice=0.6541\n"
     ]
    },
    {
     "name": "stdout",
     "output_type": "stream",
     "text": [
      "[TRAIN] iter=490/3000 avg_loss=0.0405 avg_dice=0.6553\n"
     ]
    },
    {
     "name": "stdout",
     "output_type": "stream",
     "text": [
      "[TRAIN] iter=500/3000 avg_loss=0.0393 avg_dice=0.6575\n"
     ]
    },
    {
     "name": "stdout",
     "output_type": "stream",
     "text": [
      "[EVAL] iter=500/3000 avg_loss=0.0735 dice=0.6286\n"
     ]
    },
    {
     "name": "stdout",
     "output_type": "stream",
     "text": [
      "[TRAIN] iter=510/3000 avg_loss=0.0388 avg_dice=0.6582\n"
     ]
    },
    {
     "name": "stdout",
     "output_type": "stream",
     "text": [
      "[TRAIN] iter=520/3000 avg_loss=0.0382 avg_dice=0.6600\n"
     ]
    },
    {
     "name": "stdout",
     "output_type": "stream",
     "text": [
      "[TRAIN] iter=530/3000 avg_loss=0.0384 avg_dice=0.6579\n"
     ]
    },
    {
     "name": "stdout",
     "output_type": "stream",
     "text": [
      "[TRAIN] iter=540/3000 avg_loss=0.0358 avg_dice=0.6613\n"
     ]
    },
    {
     "name": "stdout",
     "output_type": "stream",
     "text": [
      "[TRAIN] iter=550/3000 avg_loss=0.0352 avg_dice=0.6631\n"
     ]
    },
    {
     "name": "stdout",
     "output_type": "stream",
     "text": [
      "[EVAL] iter=550/3000 avg_loss=0.0787 dice=0.6222\n"
     ]
    },
    {
     "name": "stdout",
     "output_type": "stream",
     "text": [
      "[TRAIN] iter=560/3000 avg_loss=0.0350 avg_dice=0.6609\n"
     ]
    },
    {
     "name": "stdout",
     "output_type": "stream",
     "text": [
      "[TRAIN] iter=570/3000 avg_loss=0.0358 avg_dice=0.6593\n"
     ]
    },
    {
     "name": "stdout",
     "output_type": "stream",
     "text": [
      "[TRAIN] iter=580/3000 avg_loss=0.0360 avg_dice=0.6602\n"
     ]
    },
    {
     "name": "stdout",
     "output_type": "stream",
     "text": [
      "[TRAIN] iter=590/3000 avg_loss=0.0335 avg_dice=0.6655\n"
     ]
    },
    {
     "name": "stdout",
     "output_type": "stream",
     "text": [
      "[TRAIN] iter=600/3000 avg_loss=0.0336 avg_dice=0.6660\n"
     ]
    },
    {
     "name": "stdout",
     "output_type": "stream",
     "text": [
      "[EVAL] iter=600/3000 avg_loss=0.0706 dice=0.6353\n"
     ]
    },
    {
     "name": "stdout",
     "output_type": "stream",
     "text": [
      "[TRAIN] iter=610/3000 avg_loss=0.0316 avg_dice=0.6669\n"
     ]
    },
    {
     "name": "stdout",
     "output_type": "stream",
     "text": [
      "[TRAIN] iter=620/3000 avg_loss=0.0327 avg_dice=0.6655\n"
     ]
    },
    {
     "name": "stdout",
     "output_type": "stream",
     "text": [
      "[TRAIN] iter=630/3000 avg_loss=0.0329 avg_dice=0.6664\n"
     ]
    },
    {
     "name": "stdout",
     "output_type": "stream",
     "text": [
      "[TRAIN] iter=640/3000 avg_loss=0.0320 avg_dice=0.6677\n"
     ]
    },
    {
     "name": "stdout",
     "output_type": "stream",
     "text": [
      "[TRAIN] iter=650/3000 avg_loss=0.0305 avg_dice=0.6692\n"
     ]
    },
    {
     "name": "stdout",
     "output_type": "stream",
     "text": [
      "[EVAL] iter=650/3000 avg_loss=0.0725 dice=0.6423\n"
     ]
    },
    {
     "name": "stdout",
     "output_type": "stream",
     "text": [
      "[TRAIN] iter=660/3000 avg_loss=0.0315 avg_dice=0.6683\n"
     ]
    },
    {
     "name": "stdout",
     "output_type": "stream",
     "text": [
      "[TRAIN] iter=670/3000 avg_loss=0.0309 avg_dice=0.6696\n"
     ]
    },
    {
     "name": "stdout",
     "output_type": "stream",
     "text": [
      "[TRAIN] iter=680/3000 avg_loss=0.0300 avg_dice=0.6723\n"
     ]
    },
    {
     "name": "stdout",
     "output_type": "stream",
     "text": [
      "[TRAIN] iter=690/3000 avg_loss=0.0313 avg_dice=0.6680\n"
     ]
    },
    {
     "name": "stdout",
     "output_type": "stream",
     "text": [
      "[TRAIN] iter=700/3000 avg_loss=0.0316 avg_dice=0.6686\n"
     ]
    },
    {
     "name": "stdout",
     "output_type": "stream",
     "text": [
      "[EVAL] iter=700/3000 avg_loss=0.0852 dice=0.6368\n"
     ]
    },
    {
     "name": "stdout",
     "output_type": "stream",
     "text": [
      "[TRAIN] iter=710/3000 avg_loss=0.0307 avg_dice=0.6696\n"
     ]
    },
    {
     "name": "stdout",
     "output_type": "stream",
     "text": [
      "[TRAIN] iter=720/3000 avg_loss=0.0305 avg_dice=0.6692\n"
     ]
    },
    {
     "name": "stdout",
     "output_type": "stream",
     "text": [
      "[TRAIN] iter=730/3000 avg_loss=0.0336 avg_dice=0.6715\n"
     ]
    },
    {
     "name": "stdout",
     "output_type": "stream",
     "text": [
      "[TRAIN] iter=740/3000 avg_loss=0.0296 avg_dice=0.6739\n"
     ]
    },
    {
     "name": "stdout",
     "output_type": "stream",
     "text": [
      "[TRAIN] iter=750/3000 avg_loss=0.0342 avg_dice=0.6697\n"
     ]
    },
    {
     "name": "stdout",
     "output_type": "stream",
     "text": [
      "[EVAL] iter=750/3000 avg_loss=0.0746 dice=0.6318\n"
     ]
    },
    {
     "name": "stdout",
     "output_type": "stream",
     "text": [
      "[TRAIN] iter=760/3000 avg_loss=0.0330 avg_dice=0.6694\n"
     ]
    },
    {
     "name": "stdout",
     "output_type": "stream",
     "text": [
      "[TRAIN] iter=770/3000 avg_loss=0.0316 avg_dice=0.6708\n"
     ]
    },
    {
     "name": "stdout",
     "output_type": "stream",
     "text": [
      "[TRAIN] iter=780/3000 avg_loss=0.0288 avg_dice=0.6733\n"
     ]
    },
    {
     "name": "stdout",
     "output_type": "stream",
     "text": [
      "[TRAIN] iter=790/3000 avg_loss=0.0272 avg_dice=0.6732\n"
     ]
    },
    {
     "name": "stdout",
     "output_type": "stream",
     "text": [
      "[TRAIN] iter=800/3000 avg_loss=0.0271 avg_dice=0.6765\n"
     ]
    },
    {
     "name": "stdout",
     "output_type": "stream",
     "text": [
      "[EVAL] iter=800/3000 avg_loss=0.0746 dice=0.6426\n"
     ]
    },
    {
     "name": "stdout",
     "output_type": "stream",
     "text": [
      "[TRAIN] iter=810/3000 avg_loss=0.0260 avg_dice=0.6775\n"
     ]
    },
    {
     "name": "stdout",
     "output_type": "stream",
     "text": [
      "[TRAIN] iter=820/3000 avg_loss=0.0249 avg_dice=0.6789\n"
     ]
    },
    {
     "name": "stdout",
     "output_type": "stream",
     "text": [
      "[TRAIN] iter=830/3000 avg_loss=0.0246 avg_dice=0.6792\n"
     ]
    },
    {
     "name": "stdout",
     "output_type": "stream",
     "text": [
      "[TRAIN] iter=840/3000 avg_loss=0.0261 avg_dice=0.6790\n"
     ]
    },
    {
     "name": "stdout",
     "output_type": "stream",
     "text": [
      "[TRAIN] iter=850/3000 avg_loss=0.0260 avg_dice=0.6797\n"
     ]
    },
    {
     "name": "stdout",
     "output_type": "stream",
     "text": [
      "[EVAL] iter=850/3000 avg_loss=0.0734 dice=0.6443\n"
     ]
    },
    {
     "name": "stdout",
     "output_type": "stream",
     "text": [
      "[TRAIN] iter=860/3000 avg_loss=0.0243 avg_dice=0.6805\n"
     ]
    },
    {
     "name": "stdout",
     "output_type": "stream",
     "text": [
      "[TRAIN] iter=870/3000 avg_loss=0.0283 avg_dice=0.6780\n"
     ]
    },
    {
     "name": "stdout",
     "output_type": "stream",
     "text": [
      "[TRAIN] iter=880/3000 avg_loss=0.0282 avg_dice=0.6759\n"
     ]
    },
    {
     "name": "stdout",
     "output_type": "stream",
     "text": [
      "[TRAIN] iter=890/3000 avg_loss=0.0255 avg_dice=0.6795\n"
     ]
    },
    {
     "name": "stdout",
     "output_type": "stream",
     "text": [
      "[TRAIN] iter=900/3000 avg_loss=0.0238 avg_dice=0.6803\n"
     ]
    },
    {
     "name": "stdout",
     "output_type": "stream",
     "text": [
      "[EVAL] iter=900/3000 avg_loss=0.0757 dice=0.6411\n"
     ]
    },
    {
     "name": "stdout",
     "output_type": "stream",
     "text": [
      "[TRAIN] iter=910/3000 avg_loss=0.0249 avg_dice=0.6793\n"
     ]
    },
    {
     "name": "stdout",
     "output_type": "stream",
     "text": [
      "[TRAIN] iter=920/3000 avg_loss=0.0247 avg_dice=0.6821\n"
     ]
    },
    {
     "name": "stdout",
     "output_type": "stream",
     "text": [
      "[TRAIN] iter=930/3000 avg_loss=0.0226 avg_dice=0.6823\n"
     ]
    },
    {
     "name": "stdout",
     "output_type": "stream",
     "text": [
      "[TRAIN] iter=940/3000 avg_loss=0.0231 avg_dice=0.6815\n"
     ]
    },
    {
     "name": "stdout",
     "output_type": "stream",
     "text": [
      "[TRAIN] iter=950/3000 avg_loss=0.0242 avg_dice=0.6818\n"
     ]
    },
    {
     "name": "stdout",
     "output_type": "stream",
     "text": [
      "[EVAL] iter=950/3000 avg_loss=0.0767 dice=0.6421\n"
     ]
    },
    {
     "name": "stdout",
     "output_type": "stream",
     "text": [
      "[TRAIN] iter=960/3000 avg_loss=0.0225 avg_dice=0.6837\n"
     ]
    },
    {
     "name": "stdout",
     "output_type": "stream",
     "text": [
      "[TRAIN] iter=970/3000 avg_loss=0.0221 avg_dice=0.6832\n"
     ]
    },
    {
     "name": "stdout",
     "output_type": "stream",
     "text": [
      "[TRAIN] iter=980/3000 avg_loss=0.0212 avg_dice=0.6844\n"
     ]
    },
    {
     "name": "stdout",
     "output_type": "stream",
     "text": [
      "[TRAIN] iter=990/3000 avg_loss=0.0212 avg_dice=0.6850\n"
     ]
    },
    {
     "name": "stdout",
     "output_type": "stream",
     "text": [
      "[TRAIN] iter=1000/3000 avg_loss=0.0233 avg_dice=0.6830\n"
     ]
    },
    {
     "name": "stdout",
     "output_type": "stream",
     "text": [
      "[EVAL] iter=1000/3000 avg_loss=0.0804 dice=0.6363\n"
     ]
    },
    {
     "name": "stdout",
     "output_type": "stream",
     "text": [
      "[TRAIN] iter=1010/3000 avg_loss=0.0238 avg_dice=0.6826\n"
     ]
    },
    {
     "name": "stdout",
     "output_type": "stream",
     "text": [
      "[TRAIN] iter=1020/3000 avg_loss=0.0261 avg_dice=0.6793\n"
     ]
    },
    {
     "name": "stdout",
     "output_type": "stream",
     "text": [
      "[TRAIN] iter=1030/3000 avg_loss=0.0252 avg_dice=0.6804\n"
     ]
    },
    {
     "name": "stdout",
     "output_type": "stream",
     "text": [
      "[TRAIN] iter=1040/3000 avg_loss=0.0251 avg_dice=0.6831\n"
     ]
    },
    {
     "name": "stdout",
     "output_type": "stream",
     "text": [
      "[TRAIN] iter=1050/3000 avg_loss=0.0239 avg_dice=0.6831\n"
     ]
    },
    {
     "name": "stdout",
     "output_type": "stream",
     "text": [
      "[EVAL] iter=1050/3000 avg_loss=0.0776 dice=0.6469\n"
     ]
    },
    {
     "name": "stdout",
     "output_type": "stream",
     "text": [
      "[TRAIN] iter=1060/3000 avg_loss=0.0213 avg_dice=0.6857\n"
     ]
    },
    {
     "name": "stdout",
     "output_type": "stream",
     "text": [
      "[TRAIN] iter=1070/3000 avg_loss=0.0207 avg_dice=0.6864\n"
     ]
    },
    {
     "name": "stdout",
     "output_type": "stream",
     "text": [
      "[TRAIN] iter=1080/3000 avg_loss=0.0204 avg_dice=0.6872\n"
     ]
    },
    {
     "name": "stdout",
     "output_type": "stream",
     "text": [
      "[TRAIN] iter=1090/3000 avg_loss=0.0201 avg_dice=0.6867\n"
     ]
    },
    {
     "name": "stdout",
     "output_type": "stream",
     "text": [
      "[TRAIN] iter=1100/3000 avg_loss=0.0201 avg_dice=0.6868\n"
     ]
    },
    {
     "name": "stdout",
     "output_type": "stream",
     "text": [
      "[EVAL] iter=1100/3000 avg_loss=0.0763 dice=0.6438\n"
     ]
    },
    {
     "name": "stdout",
     "output_type": "stream",
     "text": [
      "[TRAIN] iter=1110/3000 avg_loss=0.0200 avg_dice=0.6879\n"
     ]
    },
    {
     "name": "stdout",
     "output_type": "stream",
     "text": [
      "[TRAIN] iter=1120/3000 avg_loss=0.0220 avg_dice=0.6861\n"
     ]
    },
    {
     "name": "stdout",
     "output_type": "stream",
     "text": [
      "[TRAIN] iter=1130/3000 avg_loss=0.0228 avg_dice=0.6854\n"
     ]
    },
    {
     "name": "stdout",
     "output_type": "stream",
     "text": [
      "[TRAIN] iter=1140/3000 avg_loss=0.0225 avg_dice=0.6864\n"
     ]
    },
    {
     "name": "stdout",
     "output_type": "stream",
     "text": [
      "[TRAIN] iter=1150/3000 avg_loss=0.0206 avg_dice=0.6862\n"
     ]
    },
    {
     "name": "stdout",
     "output_type": "stream",
     "text": [
      "[EVAL] iter=1150/3000 avg_loss=0.0808 dice=0.6423\n"
     ]
    },
    {
     "name": "stdout",
     "output_type": "stream",
     "text": [
      "[TRAIN] iter=1160/3000 avg_loss=0.0215 avg_dice=0.6865\n"
     ]
    },
    {
     "name": "stdout",
     "output_type": "stream",
     "text": [
      "[TRAIN] iter=1170/3000 avg_loss=0.0226 avg_dice=0.6857\n"
     ]
    },
    {
     "name": "stdout",
     "output_type": "stream",
     "text": [
      "[TRAIN] iter=1180/3000 avg_loss=0.0220 avg_dice=0.6878\n"
     ]
    },
    {
     "name": "stdout",
     "output_type": "stream",
     "text": [
      "[TRAIN] iter=1190/3000 avg_loss=0.0210 avg_dice=0.6857\n"
     ]
    },
    {
     "name": "stdout",
     "output_type": "stream",
     "text": [
      "[TRAIN] iter=1200/3000 avg_loss=0.0198 avg_dice=0.6882\n"
     ]
    },
    {
     "name": "stdout",
     "output_type": "stream",
     "text": [
      "[EVAL] iter=1200/3000 avg_loss=0.0801 dice=0.6397\n"
     ]
    },
    {
     "name": "stdout",
     "output_type": "stream",
     "text": [
      "[TRAIN] iter=1210/3000 avg_loss=0.0205 avg_dice=0.6874\n"
     ]
    },
    {
     "name": "stdout",
     "output_type": "stream",
     "text": [
      "[TRAIN] iter=1220/3000 avg_loss=0.0202 avg_dice=0.6889\n"
     ]
    },
    {
     "name": "stdout",
     "output_type": "stream",
     "text": [
      "[TRAIN] iter=1230/3000 avg_loss=0.0197 avg_dice=0.6888\n"
     ]
    },
    {
     "name": "stdout",
     "output_type": "stream",
     "text": [
      "[TRAIN] iter=1240/3000 avg_loss=0.0192 avg_dice=0.6896\n"
     ]
    },
    {
     "name": "stdout",
     "output_type": "stream",
     "text": [
      "[TRAIN] iter=1250/3000 avg_loss=0.0179 avg_dice=0.6915\n"
     ]
    },
    {
     "name": "stdout",
     "output_type": "stream",
     "text": [
      "[EVAL] iter=1250/3000 avg_loss=0.0800 dice=0.6452\n"
     ]
    },
    {
     "name": "stdout",
     "output_type": "stream",
     "text": [
      "[TRAIN] iter=1260/3000 avg_loss=0.0201 avg_dice=0.6895\n"
     ]
    },
    {
     "name": "stdout",
     "output_type": "stream",
     "text": [
      "[TRAIN] iter=1270/3000 avg_loss=0.0183 avg_dice=0.6910\n"
     ]
    },
    {
     "name": "stdout",
     "output_type": "stream",
     "text": [
      "[TRAIN] iter=1280/3000 avg_loss=0.0178 avg_dice=0.6922\n"
     ]
    },
    {
     "name": "stdout",
     "output_type": "stream",
     "text": [
      "[TRAIN] iter=1290/3000 avg_loss=0.0180 avg_dice=0.6927\n"
     ]
    },
    {
     "name": "stdout",
     "output_type": "stream",
     "text": [
      "[TRAIN] iter=1300/3000 avg_loss=0.0200 avg_dice=0.6895\n"
     ]
    },
    {
     "name": "stdout",
     "output_type": "stream",
     "text": [
      "[EVAL] iter=1300/3000 avg_loss=0.0838 dice=0.6544\n"
     ]
    },
    {
     "name": "stdout",
     "output_type": "stream",
     "text": [
      "[TRAIN] iter=1310/3000 avg_loss=0.0186 avg_dice=0.6907\n"
     ]
    },
    {
     "name": "stdout",
     "output_type": "stream",
     "text": [
      "[TRAIN] iter=1320/3000 avg_loss=0.0175 avg_dice=0.6931\n"
     ]
    },
    {
     "name": "stdout",
     "output_type": "stream",
     "text": [
      "[TRAIN] iter=1330/3000 avg_loss=0.0181 avg_dice=0.6921\n"
     ]
    },
    {
     "name": "stdout",
     "output_type": "stream",
     "text": [
      "[TRAIN] iter=1340/3000 avg_loss=0.0206 avg_dice=0.6904\n"
     ]
    },
    {
     "name": "stdout",
     "output_type": "stream",
     "text": [
      "[TRAIN] iter=1350/3000 avg_loss=0.0197 avg_dice=0.6902\n"
     ]
    },
    {
     "name": "stdout",
     "output_type": "stream",
     "text": [
      "[EVAL] iter=1350/3000 avg_loss=0.0854 dice=0.6380\n"
     ]
    },
    {
     "name": "stdout",
     "output_type": "stream",
     "text": [
      "[TRAIN] iter=1360/3000 avg_loss=0.0208 avg_dice=0.6900\n"
     ]
    },
    {
     "name": "stdout",
     "output_type": "stream",
     "text": [
      "[TRAIN] iter=1370/3000 avg_loss=0.0184 avg_dice=0.6907\n"
     ]
    },
    {
     "name": "stdout",
     "output_type": "stream",
     "text": [
      "[TRAIN] iter=1380/3000 avg_loss=0.0171 avg_dice=0.6930\n"
     ]
    },
    {
     "name": "stdout",
     "output_type": "stream",
     "text": [
      "[TRAIN] iter=1390/3000 avg_loss=0.0166 avg_dice=0.6935\n"
     ]
    },
    {
     "name": "stdout",
     "output_type": "stream",
     "text": [
      "[TRAIN] iter=1400/3000 avg_loss=0.0181 avg_dice=0.6925\n"
     ]
    },
    {
     "name": "stdout",
     "output_type": "stream",
     "text": [
      "[EVAL] iter=1400/3000 avg_loss=0.0815 dice=0.6488\n"
     ]
    },
    {
     "name": "stdout",
     "output_type": "stream",
     "text": [
      "[TRAIN] iter=1410/3000 avg_loss=0.0169 avg_dice=0.6947\n"
     ]
    },
    {
     "name": "stdout",
     "output_type": "stream",
     "text": [
      "[TRAIN] iter=1420/3000 avg_loss=0.0183 avg_dice=0.6949\n"
     ]
    },
    {
     "name": "stdout",
     "output_type": "stream",
     "text": [
      "[TRAIN] iter=1430/3000 avg_loss=0.0170 avg_dice=0.6941\n"
     ]
    },
    {
     "name": "stdout",
     "output_type": "stream",
     "text": [
      "[TRAIN] iter=1440/3000 avg_loss=0.0167 avg_dice=0.6940\n"
     ]
    },
    {
     "name": "stdout",
     "output_type": "stream",
     "text": [
      "[TRAIN] iter=1450/3000 avg_loss=0.0161 avg_dice=0.6952\n"
     ]
    },
    {
     "name": "stdout",
     "output_type": "stream",
     "text": [
      "[EVAL] iter=1450/3000 avg_loss=0.0832 dice=0.6421\n"
     ]
    },
    {
     "name": "stdout",
     "output_type": "stream",
     "text": [
      "[TRAIN] iter=1460/3000 avg_loss=0.0157 avg_dice=0.6954\n"
     ]
    },
    {
     "name": "stdout",
     "output_type": "stream",
     "text": [
      "[TRAIN] iter=1470/3000 avg_loss=0.0154 avg_dice=0.6952\n"
     ]
    },
    {
     "name": "stdout",
     "output_type": "stream",
     "text": [
      "[TRAIN] iter=1480/3000 avg_loss=0.0150 avg_dice=0.6964\n"
     ]
    },
    {
     "name": "stdout",
     "output_type": "stream",
     "text": [
      "[TRAIN] iter=1490/3000 avg_loss=0.0156 avg_dice=0.6959\n"
     ]
    },
    {
     "name": "stdout",
     "output_type": "stream",
     "text": [
      "[TRAIN] iter=1500/3000 avg_loss=0.0165 avg_dice=0.6949\n"
     ]
    },
    {
     "name": "stdout",
     "output_type": "stream",
     "text": [
      "[EVAL] iter=1500/3000 avg_loss=0.0885 dice=0.6503\n"
     ]
    },
    {
     "name": "stdout",
     "output_type": "stream",
     "text": [
      "[TRAIN] iter=1510/3000 avg_loss=0.0207 avg_dice=0.6896\n"
     ]
    },
    {
     "name": "stdout",
     "output_type": "stream",
     "text": [
      "[TRAIN] iter=1520/3000 avg_loss=0.0209 avg_dice=0.6894\n"
     ]
    },
    {
     "name": "stdout",
     "output_type": "stream",
     "text": [
      "[TRAIN] iter=1530/3000 avg_loss=0.0197 avg_dice=0.6888\n"
     ]
    },
    {
     "name": "stdout",
     "output_type": "stream",
     "text": [
      "[TRAIN] iter=1540/3000 avg_loss=0.0169 avg_dice=0.6919\n"
     ]
    },
    {
     "name": "stdout",
     "output_type": "stream",
     "text": [
      "[TRAIN] iter=1550/3000 avg_loss=0.0149 avg_dice=0.6958\n"
     ]
    },
    {
     "name": "stdout",
     "output_type": "stream",
     "text": [
      "[EVAL] iter=1550/3000 avg_loss=0.0817 dice=0.6468\n"
     ]
    },
    {
     "name": "stdout",
     "output_type": "stream",
     "text": [
      "[TRAIN] iter=1560/3000 avg_loss=0.0155 avg_dice=0.6965\n"
     ]
    },
    {
     "name": "stdout",
     "output_type": "stream",
     "text": [
      "[TRAIN] iter=1570/3000 avg_loss=0.0142 avg_dice=0.6978\n"
     ]
    },
    {
     "name": "stdout",
     "output_type": "stream",
     "text": [
      "[TRAIN] iter=1580/3000 avg_loss=0.0143 avg_dice=0.6983\n"
     ]
    },
    {
     "name": "stdout",
     "output_type": "stream",
     "text": [
      "[TRAIN] iter=1590/3000 avg_loss=0.0151 avg_dice=0.6968\n"
     ]
    },
    {
     "name": "stdout",
     "output_type": "stream",
     "text": [
      "[TRAIN] iter=1600/3000 avg_loss=0.0147 avg_dice=0.6979\n"
     ]
    },
    {
     "name": "stdout",
     "output_type": "stream",
     "text": [
      "[EVAL] iter=1600/3000 avg_loss=0.0810 dice=0.6485\n"
     ]
    },
    {
     "name": "stdout",
     "output_type": "stream",
     "text": [
      "[TRAIN] iter=1610/3000 avg_loss=0.0142 avg_dice=0.6979\n"
     ]
    },
    {
     "name": "stdout",
     "output_type": "stream",
     "text": [
      "[TRAIN] iter=1620/3000 avg_loss=0.0142 avg_dice=0.6985\n"
     ]
    },
    {
     "name": "stdout",
     "output_type": "stream",
     "text": [
      "[TRAIN] iter=1630/3000 avg_loss=0.0138 avg_dice=0.6983\n"
     ]
    },
    {
     "name": "stdout",
     "output_type": "stream",
     "text": [
      "[TRAIN] iter=1640/3000 avg_loss=0.0141 avg_dice=0.6980\n"
     ]
    },
    {
     "name": "stdout",
     "output_type": "stream",
     "text": [
      "[TRAIN] iter=1650/3000 avg_loss=0.0140 avg_dice=0.6986\n"
     ]
    },
    {
     "name": "stdout",
     "output_type": "stream",
     "text": [
      "[EVAL] iter=1650/3000 avg_loss=0.0881 dice=0.6523\n"
     ]
    },
    {
     "name": "stdout",
     "output_type": "stream",
     "text": [
      "[TRAIN] iter=1660/3000 avg_loss=0.0147 avg_dice=0.6971\n"
     ]
    },
    {
     "name": "stdout",
     "output_type": "stream",
     "text": [
      "[TRAIN] iter=1670/3000 avg_loss=0.0137 avg_dice=0.6991\n"
     ]
    },
    {
     "name": "stdout",
     "output_type": "stream",
     "text": [
      "[TRAIN] iter=1680/3000 avg_loss=0.0136 avg_dice=0.7000\n"
     ]
    },
    {
     "name": "stdout",
     "output_type": "stream",
     "text": [
      "[TRAIN] iter=1690/3000 avg_loss=0.0142 avg_dice=0.6994\n"
     ]
    },
    {
     "name": "stdout",
     "output_type": "stream",
     "text": [
      "[TRAIN] iter=1700/3000 avg_loss=0.0135 avg_dice=0.6987\n"
     ]
    },
    {
     "name": "stdout",
     "output_type": "stream",
     "text": [
      "[EVAL] iter=1700/3000 avg_loss=0.0858 dice=0.6526\n"
     ]
    },
    {
     "name": "stdout",
     "output_type": "stream",
     "text": [
      "[TRAIN] iter=1710/3000 avg_loss=0.0139 avg_dice=0.6995\n"
     ]
    },
    {
     "name": "stdout",
     "output_type": "stream",
     "text": [
      "[TRAIN] iter=1720/3000 avg_loss=0.0151 avg_dice=0.6970\n"
     ]
    },
    {
     "name": "stdout",
     "output_type": "stream",
     "text": [
      "[TRAIN] iter=1730/3000 avg_loss=0.0171 avg_dice=0.6958\n"
     ]
    },
    {
     "name": "stdout",
     "output_type": "stream",
     "text": [
      "[TRAIN] iter=1740/3000 avg_loss=0.0161 avg_dice=0.6964\n"
     ]
    },
    {
     "name": "stdout",
     "output_type": "stream",
     "text": [
      "[TRAIN] iter=1750/3000 avg_loss=0.0148 avg_dice=0.6983\n"
     ]
    },
    {
     "name": "stdout",
     "output_type": "stream",
     "text": [
      "[EVAL] iter=1750/3000 avg_loss=0.0913 dice=0.6459\n"
     ]
    },
    {
     "name": "stdout",
     "output_type": "stream",
     "text": [
      "[TRAIN] iter=1760/3000 avg_loss=0.0143 avg_dice=0.6994\n"
     ]
    },
    {
     "name": "stdout",
     "output_type": "stream",
     "text": [
      "[TRAIN] iter=1770/3000 avg_loss=0.0136 avg_dice=0.6998\n"
     ]
    },
    {
     "name": "stdout",
     "output_type": "stream",
     "text": [
      "[TRAIN] iter=1780/3000 avg_loss=0.0126 avg_dice=0.7011\n"
     ]
    },
    {
     "name": "stdout",
     "output_type": "stream",
     "text": [
      "[TRAIN] iter=1790/3000 avg_loss=0.0129 avg_dice=0.7007\n"
     ]
    },
    {
     "name": "stdout",
     "output_type": "stream",
     "text": [
      "[TRAIN] iter=1800/3000 avg_loss=0.0128 avg_dice=0.7012\n"
     ]
    },
    {
     "name": "stdout",
     "output_type": "stream",
     "text": [
      "[EVAL] iter=1800/3000 avg_loss=0.0857 dice=0.6538\n"
     ]
    },
    {
     "name": "stdout",
     "output_type": "stream",
     "text": [
      "[TRAIN] iter=1810/3000 avg_loss=0.0133 avg_dice=0.7011\n"
     ]
    },
    {
     "name": "stdout",
     "output_type": "stream",
     "text": [
      "[TRAIN] iter=1820/3000 avg_loss=0.0131 avg_dice=0.7007\n"
     ]
    },
    {
     "name": "stdout",
     "output_type": "stream",
     "text": [
      "[TRAIN] iter=1830/3000 avg_loss=0.0126 avg_dice=0.7016\n"
     ]
    },
    {
     "name": "stdout",
     "output_type": "stream",
     "text": [
      "[TRAIN] iter=1840/3000 avg_loss=0.0133 avg_dice=0.7012\n"
     ]
    },
    {
     "name": "stdout",
     "output_type": "stream",
     "text": [
      "[TRAIN] iter=1850/3000 avg_loss=0.0148 avg_dice=0.6996\n"
     ]
    },
    {
     "name": "stdout",
     "output_type": "stream",
     "text": [
      "[EVAL] iter=1850/3000 avg_loss=0.0896 dice=0.6515\n"
     ]
    },
    {
     "name": "stdout",
     "output_type": "stream",
     "text": [
      "[TRAIN] iter=1860/3000 avg_loss=0.0135 avg_dice=0.7004\n"
     ]
    },
    {
     "name": "stdout",
     "output_type": "stream",
     "text": [
      "[TRAIN] iter=1870/3000 avg_loss=0.0142 avg_dice=0.7007\n"
     ]
    },
    {
     "name": "stdout",
     "output_type": "stream",
     "text": [
      "[TRAIN] iter=1880/3000 avg_loss=0.0132 avg_dice=0.7008\n"
     ]
    },
    {
     "name": "stdout",
     "output_type": "stream",
     "text": [
      "[TRAIN] iter=1890/3000 avg_loss=0.0127 avg_dice=0.7012\n"
     ]
    },
    {
     "name": "stdout",
     "output_type": "stream",
     "text": [
      "[TRAIN] iter=1900/3000 avg_loss=0.0123 avg_dice=0.7022\n"
     ]
    },
    {
     "name": "stdout",
     "output_type": "stream",
     "text": [
      "[EVAL] iter=1900/3000 avg_loss=0.0935 dice=0.6563\n"
     ]
    },
    {
     "name": "stdout",
     "output_type": "stream",
     "text": [
      "[TRAIN] iter=1910/3000 avg_loss=0.0121 avg_dice=0.7027\n"
     ]
    },
    {
     "name": "stdout",
     "output_type": "stream",
     "text": [
      "[TRAIN] iter=1920/3000 avg_loss=0.0121 avg_dice=0.7024\n"
     ]
    },
    {
     "name": "stdout",
     "output_type": "stream",
     "text": [
      "[TRAIN] iter=1930/3000 avg_loss=0.0138 avg_dice=0.7016\n"
     ]
    },
    {
     "name": "stdout",
     "output_type": "stream",
     "text": [
      "[TRAIN] iter=1940/3000 avg_loss=0.0142 avg_dice=0.6998\n"
     ]
    },
    {
     "name": "stdout",
     "output_type": "stream",
     "text": [
      "[TRAIN] iter=1950/3000 avg_loss=0.0152 avg_dice=0.6976\n"
     ]
    },
    {
     "name": "stdout",
     "output_type": "stream",
     "text": [
      "[EVAL] iter=1950/3000 avg_loss=0.0900 dice=0.6577\n"
     ]
    },
    {
     "name": "stdout",
     "output_type": "stream",
     "text": [
      "[TRAIN] iter=1960/3000 avg_loss=0.0141 avg_dice=0.6991\n"
     ]
    },
    {
     "name": "stdout",
     "output_type": "stream",
     "text": [
      "[TRAIN] iter=1970/3000 avg_loss=0.0128 avg_dice=0.7013\n"
     ]
    },
    {
     "name": "stdout",
     "output_type": "stream",
     "text": [
      "[TRAIN] iter=1980/3000 avg_loss=0.0138 avg_dice=0.7017\n"
     ]
    },
    {
     "name": "stdout",
     "output_type": "stream",
     "text": [
      "[TRAIN] iter=1990/3000 avg_loss=0.0148 avg_dice=0.7018\n"
     ]
    },
    {
     "name": "stdout",
     "output_type": "stream",
     "text": [
      "[TRAIN] iter=2000/3000 avg_loss=0.0158 avg_dice=0.7000\n"
     ]
    },
    {
     "name": "stdout",
     "output_type": "stream",
     "text": [
      "[EVAL] iter=2000/3000 avg_loss=0.0981 dice=0.6476\n"
     ]
    },
    {
     "name": "stdout",
     "output_type": "stream",
     "text": [
      "[TRAIN] iter=2010/3000 avg_loss=0.0160 avg_dice=0.6999\n"
     ]
    },
    {
     "name": "stdout",
     "output_type": "stream",
     "text": [
      "[TRAIN] iter=2020/3000 avg_loss=0.0136 avg_dice=0.7012\n"
     ]
    },
    {
     "name": "stdout",
     "output_type": "stream",
     "text": [
      "[TRAIN] iter=2030/3000 avg_loss=0.0117 avg_dice=0.7034\n"
     ]
    },
    {
     "name": "stdout",
     "output_type": "stream",
     "text": [
      "[TRAIN] iter=2040/3000 avg_loss=0.0116 avg_dice=0.7038\n"
     ]
    },
    {
     "name": "stdout",
     "output_type": "stream",
     "text": [
      "[TRAIN] iter=2050/3000 avg_loss=0.0123 avg_dice=0.7030\n"
     ]
    },
    {
     "name": "stdout",
     "output_type": "stream",
     "text": [
      "[EVAL] iter=2050/3000 avg_loss=0.0863 dice=0.6534\n"
     ]
    },
    {
     "name": "stdout",
     "output_type": "stream",
     "text": [
      "[TRAIN] iter=2060/3000 avg_loss=0.0113 avg_dice=0.7043\n"
     ]
    },
    {
     "name": "stdout",
     "output_type": "stream",
     "text": [
      "[TRAIN] iter=2070/3000 avg_loss=0.0114 avg_dice=0.7042\n"
     ]
    },
    {
     "name": "stdout",
     "output_type": "stream",
     "text": [
      "[TRAIN] iter=2080/3000 avg_loss=0.0115 avg_dice=0.7039\n"
     ]
    },
    {
     "name": "stdout",
     "output_type": "stream",
     "text": [
      "[TRAIN] iter=2090/3000 avg_loss=0.0111 avg_dice=0.7045\n"
     ]
    },
    {
     "name": "stdout",
     "output_type": "stream",
     "text": [
      "[TRAIN] iter=2100/3000 avg_loss=0.0121 avg_dice=0.7026\n"
     ]
    },
    {
     "name": "stdout",
     "output_type": "stream",
     "text": [
      "[EVAL] iter=2100/3000 avg_loss=0.0943 dice=0.6506\n"
     ]
    },
    {
     "name": "stdout",
     "output_type": "stream",
     "text": [
      "[TRAIN] iter=2110/3000 avg_loss=0.0119 avg_dice=0.7027\n"
     ]
    },
    {
     "name": "stdout",
     "output_type": "stream",
     "text": [
      "[TRAIN] iter=2120/3000 avg_loss=0.0123 avg_dice=0.7023\n"
     ]
    },
    {
     "name": "stdout",
     "output_type": "stream",
     "text": [
      "[TRAIN] iter=2130/3000 avg_loss=0.0116 avg_dice=0.7042\n"
     ]
    },
    {
     "name": "stdout",
     "output_type": "stream",
     "text": [
      "[TRAIN] iter=2140/3000 avg_loss=0.0118 avg_dice=0.7033\n"
     ]
    },
    {
     "name": "stdout",
     "output_type": "stream",
     "text": [
      "[TRAIN] iter=2150/3000 avg_loss=0.0122 avg_dice=0.7023\n"
     ]
    },
    {
     "name": "stdout",
     "output_type": "stream",
     "text": [
      "[EVAL] iter=2150/3000 avg_loss=0.0954 dice=0.6499\n"
     ]
    },
    {
     "name": "stdout",
     "output_type": "stream",
     "text": [
      "[TRAIN] iter=2160/3000 avg_loss=0.0121 avg_dice=0.7024\n"
     ]
    },
    {
     "name": "stdout",
     "output_type": "stream",
     "text": [
      "[TRAIN] iter=2170/3000 avg_loss=0.0121 avg_dice=0.7034\n"
     ]
    },
    {
     "name": "stdout",
     "output_type": "stream",
     "text": [
      "[TRAIN] iter=2180/3000 avg_loss=0.0137 avg_dice=0.7016\n"
     ]
    },
    {
     "name": "stdout",
     "output_type": "stream",
     "text": [
      "[TRAIN] iter=2190/3000 avg_loss=0.0146 avg_dice=0.6993\n"
     ]
    },
    {
     "name": "stdout",
     "output_type": "stream",
     "text": [
      "[TRAIN] iter=2200/3000 avg_loss=0.0140 avg_dice=0.6998\n"
     ]
    },
    {
     "name": "stdout",
     "output_type": "stream",
     "text": [
      "[EVAL] iter=2200/3000 avg_loss=0.0949 dice=0.6500\n"
     ]
    },
    {
     "name": "stdout",
     "output_type": "stream",
     "text": [
      "[TRAIN] iter=2210/3000 avg_loss=0.0129 avg_dice=0.7021\n"
     ]
    },
    {
     "name": "stdout",
     "output_type": "stream",
     "text": [
      "[TRAIN] iter=2220/3000 avg_loss=0.0121 avg_dice=0.7022\n"
     ]
    },
    {
     "name": "stdout",
     "output_type": "stream",
     "text": [
      "[TRAIN] iter=2230/3000 avg_loss=0.0122 avg_dice=0.7042\n"
     ]
    },
    {
     "name": "stdout",
     "output_type": "stream",
     "text": [
      "[TRAIN] iter=2240/3000 avg_loss=0.0123 avg_dice=0.7045\n"
     ]
    },
    {
     "name": "stdout",
     "output_type": "stream",
     "text": [
      "[TRAIN] iter=2250/3000 avg_loss=0.0134 avg_dice=0.7050\n"
     ]
    },
    {
     "name": "stdout",
     "output_type": "stream",
     "text": [
      "[EVAL] iter=2250/3000 avg_loss=0.0941 dice=0.6526\n"
     ]
    },
    {
     "name": "stdout",
     "output_type": "stream",
     "text": [
      "[TRAIN] iter=2260/3000 avg_loss=0.0118 avg_dice=0.7054\n"
     ]
    },
    {
     "name": "stdout",
     "output_type": "stream",
     "text": [
      "[TRAIN] iter=2270/3000 avg_loss=0.0125 avg_dice=0.7058\n"
     ]
    },
    {
     "name": "stdout",
     "output_type": "stream",
     "text": [
      "[TRAIN] iter=2280/3000 avg_loss=0.0108 avg_dice=0.7068\n"
     ]
    },
    {
     "name": "stdout",
     "output_type": "stream",
     "text": [
      "[TRAIN] iter=2290/3000 avg_loss=0.0104 avg_dice=0.7066\n"
     ]
    },
    {
     "name": "stdout",
     "output_type": "stream",
     "text": [
      "[TRAIN] iter=2300/3000 avg_loss=0.0108 avg_dice=0.7059\n"
     ]
    },
    {
     "name": "stdout",
     "output_type": "stream",
     "text": [
      "[EVAL] iter=2300/3000 avg_loss=0.0995 dice=0.6507\n"
     ]
    },
    {
     "name": "stdout",
     "output_type": "stream",
     "text": [
      "[TRAIN] iter=2310/3000 avg_loss=0.0104 avg_dice=0.7063\n"
     ]
    },
    {
     "name": "stdout",
     "output_type": "stream",
     "text": [
      "[TRAIN] iter=2320/3000 avg_loss=0.0108 avg_dice=0.7050\n"
     ]
    },
    {
     "name": "stdout",
     "output_type": "stream",
     "text": [
      "[TRAIN] iter=2330/3000 avg_loss=0.0100 avg_dice=0.7073\n"
     ]
    },
    {
     "name": "stdout",
     "output_type": "stream",
     "text": [
      "[TRAIN] iter=2340/3000 avg_loss=0.0112 avg_dice=0.7057\n"
     ]
    },
    {
     "name": "stdout",
     "output_type": "stream",
     "text": [
      "[TRAIN] iter=2350/3000 avg_loss=0.0129 avg_dice=0.7025\n"
     ]
    },
    {
     "name": "stdout",
     "output_type": "stream",
     "text": [
      "[EVAL] iter=2350/3000 avg_loss=0.1017 dice=0.6489\n"
     ]
    },
    {
     "name": "stdout",
     "output_type": "stream",
     "text": [
      "[TRAIN] iter=2360/3000 avg_loss=0.0130 avg_dice=0.7030\n"
     ]
    },
    {
     "name": "stdout",
     "output_type": "stream",
     "text": [
      "[TRAIN] iter=2370/3000 avg_loss=0.0120 avg_dice=0.7024\n"
     ]
    },
    {
     "name": "stdout",
     "output_type": "stream",
     "text": [
      "[TRAIN] iter=2380/3000 avg_loss=0.0129 avg_dice=0.7021\n"
     ]
    },
    {
     "name": "stdout",
     "output_type": "stream",
     "text": [
      "[TRAIN] iter=2390/3000 avg_loss=0.0127 avg_dice=0.7023\n"
     ]
    },
    {
     "name": "stdout",
     "output_type": "stream",
     "text": [
      "[TRAIN] iter=2400/3000 avg_loss=0.0114 avg_dice=0.7050\n"
     ]
    },
    {
     "name": "stdout",
     "output_type": "stream",
     "text": [
      "[EVAL] iter=2400/3000 avg_loss=0.1024 dice=0.6555\n"
     ]
    },
    {
     "name": "stdout",
     "output_type": "stream",
     "text": [
      "[TRAIN] iter=2410/3000 avg_loss=0.0111 avg_dice=0.7058\n"
     ]
    },
    {
     "name": "stdout",
     "output_type": "stream",
     "text": [
      "[TRAIN] iter=2420/3000 avg_loss=0.0110 avg_dice=0.7055\n"
     ]
    },
    {
     "name": "stdout",
     "output_type": "stream",
     "text": [
      "[TRAIN] iter=2430/3000 avg_loss=0.0106 avg_dice=0.7058\n"
     ]
    },
    {
     "name": "stdout",
     "output_type": "stream",
     "text": [
      "[TRAIN] iter=2440/3000 avg_loss=0.0111 avg_dice=0.7058\n"
     ]
    },
    {
     "name": "stdout",
     "output_type": "stream",
     "text": [
      "[TRAIN] iter=2450/3000 avg_loss=0.0114 avg_dice=0.7025\n"
     ]
    },
    {
     "name": "stdout",
     "output_type": "stream",
     "text": [
      "[EVAL] iter=2450/3000 avg_loss=0.0995 dice=0.6533\n"
     ]
    },
    {
     "name": "stdout",
     "output_type": "stream",
     "text": [
      "[TRAIN] iter=2460/3000 avg_loss=0.0104 avg_dice=0.7070\n"
     ]
    },
    {
     "name": "stdout",
     "output_type": "stream",
     "text": [
      "[TRAIN] iter=2470/3000 avg_loss=0.0108 avg_dice=0.7057\n"
     ]
    },
    {
     "name": "stdout",
     "output_type": "stream",
     "text": [
      "[TRAIN] iter=2480/3000 avg_loss=0.0104 avg_dice=0.7068\n"
     ]
    },
    {
     "name": "stdout",
     "output_type": "stream",
     "text": [
      "[TRAIN] iter=2490/3000 avg_loss=0.0112 avg_dice=0.7055\n"
     ]
    },
    {
     "name": "stdout",
     "output_type": "stream",
     "text": [
      "[TRAIN] iter=2500/3000 avg_loss=0.0102 avg_dice=0.7076\n"
     ]
    },
    {
     "name": "stdout",
     "output_type": "stream",
     "text": [
      "[EVAL] iter=2500/3000 avg_loss=0.1024 dice=0.6584\n"
     ]
    },
    {
     "name": "stdout",
     "output_type": "stream",
     "text": [
      "[TRAIN] iter=2510/3000 avg_loss=0.0104 avg_dice=0.7086\n"
     ]
    },
    {
     "name": "stdout",
     "output_type": "stream",
     "text": [
      "[TRAIN] iter=2520/3000 avg_loss=0.0097 avg_dice=0.7096\n"
     ]
    },
    {
     "name": "stdout",
     "output_type": "stream",
     "text": [
      "[TRAIN] iter=2530/3000 avg_loss=0.0096 avg_dice=0.7080\n"
     ]
    },
    {
     "name": "stdout",
     "output_type": "stream",
     "text": [
      "[TRAIN] iter=2540/3000 avg_loss=0.0094 avg_dice=0.7090\n"
     ]
    },
    {
     "name": "stdout",
     "output_type": "stream",
     "text": [
      "[TRAIN] iter=2550/3000 avg_loss=0.0094 avg_dice=0.7085\n"
     ]
    },
    {
     "name": "stdout",
     "output_type": "stream",
     "text": [
      "[EVAL] iter=2550/3000 avg_loss=0.0980 dice=0.6538\n"
     ]
    },
    {
     "name": "stdout",
     "output_type": "stream",
     "text": [
      "[TRAIN] iter=2560/3000 avg_loss=0.0103 avg_dice=0.7081\n"
     ]
    },
    {
     "name": "stdout",
     "output_type": "stream",
     "text": [
      "[TRAIN] iter=2570/3000 avg_loss=0.0101 avg_dice=0.7086\n"
     ]
    },
    {
     "name": "stdout",
     "output_type": "stream",
     "text": [
      "[TRAIN] iter=2580/3000 avg_loss=0.0100 avg_dice=0.7086\n"
     ]
    },
    {
     "name": "stdout",
     "output_type": "stream",
     "text": [
      "[TRAIN] iter=2590/3000 avg_loss=0.0094 avg_dice=0.7094\n"
     ]
    },
    {
     "name": "stdout",
     "output_type": "stream",
     "text": [
      "[TRAIN] iter=2600/3000 avg_loss=0.0089 avg_dice=0.7096\n"
     ]
    },
    {
     "name": "stdout",
     "output_type": "stream",
     "text": [
      "[EVAL] iter=2600/3000 avg_loss=0.1062 dice=0.6563\n"
     ]
    },
    {
     "name": "stdout",
     "output_type": "stream",
     "text": [
      "[TRAIN] iter=2610/3000 avg_loss=0.0093 avg_dice=0.7096\n"
     ]
    },
    {
     "name": "stdout",
     "output_type": "stream",
     "text": [
      "[TRAIN] iter=2620/3000 avg_loss=0.0099 avg_dice=0.7086\n"
     ]
    },
    {
     "name": "stdout",
     "output_type": "stream",
     "text": [
      "[TRAIN] iter=2630/3000 avg_loss=0.0093 avg_dice=0.7103\n"
     ]
    },
    {
     "name": "stdout",
     "output_type": "stream",
     "text": [
      "[TRAIN] iter=2640/3000 avg_loss=0.0126 avg_dice=0.7078\n"
     ]
    },
    {
     "name": "stdout",
     "output_type": "stream",
     "text": [
      "[TRAIN] iter=2650/3000 avg_loss=0.0136 avg_dice=0.7073\n"
     ]
    },
    {
     "name": "stdout",
     "output_type": "stream",
     "text": [
      "[EVAL] iter=2650/3000 avg_loss=0.0995 dice=0.6590\n"
     ]
    },
    {
     "name": "stdout",
     "output_type": "stream",
     "text": [
      "[TRAIN] iter=2660/3000 avg_loss=0.0114 avg_dice=0.7079\n"
     ]
    },
    {
     "name": "stdout",
     "output_type": "stream",
     "text": [
      "[TRAIN] iter=2670/3000 avg_loss=0.0101 avg_dice=0.7086\n"
     ]
    },
    {
     "name": "stdout",
     "output_type": "stream",
     "text": [
      "[TRAIN] iter=2680/3000 avg_loss=0.0091 avg_dice=0.7095\n"
     ]
    },
    {
     "name": "stdout",
     "output_type": "stream",
     "text": [
      "[TRAIN] iter=2690/3000 avg_loss=0.0090 avg_dice=0.7103\n"
     ]
    },
    {
     "name": "stdout",
     "output_type": "stream",
     "text": [
      "[TRAIN] iter=2700/3000 avg_loss=0.0082 avg_dice=0.7113\n"
     ]
    },
    {
     "name": "stdout",
     "output_type": "stream",
     "text": [
      "[EVAL] iter=2700/3000 avg_loss=0.0964 dice=0.6581\n"
     ]
    },
    {
     "name": "stdout",
     "output_type": "stream",
     "text": [
      "[TRAIN] iter=2710/3000 avg_loss=0.0093 avg_dice=0.7092\n"
     ]
    },
    {
     "name": "stdout",
     "output_type": "stream",
     "text": [
      "[TRAIN] iter=2720/3000 avg_loss=0.0084 avg_dice=0.7108\n"
     ]
    },
    {
     "name": "stdout",
     "output_type": "stream",
     "text": [
      "[TRAIN] iter=2730/3000 avg_loss=0.0086 avg_dice=0.7098\n"
     ]
    },
    {
     "name": "stdout",
     "output_type": "stream",
     "text": [
      "[TRAIN] iter=2740/3000 avg_loss=0.0083 avg_dice=0.7109\n"
     ]
    },
    {
     "name": "stdout",
     "output_type": "stream",
     "text": [
      "[TRAIN] iter=2750/3000 avg_loss=0.0098 avg_dice=0.7089\n"
     ]
    },
    {
     "name": "stdout",
     "output_type": "stream",
     "text": [
      "[EVAL] iter=2750/3000 avg_loss=0.1059 dice=0.6512\n"
     ]
    },
    {
     "name": "stdout",
     "output_type": "stream",
     "text": [
      "[TRAIN] iter=2760/3000 avg_loss=0.0089 avg_dice=0.7095\n"
     ]
    },
    {
     "name": "stdout",
     "output_type": "stream",
     "text": [
      "[TRAIN] iter=2770/3000 avg_loss=0.0091 avg_dice=0.7098\n"
     ]
    },
    {
     "name": "stdout",
     "output_type": "stream",
     "text": [
      "[TRAIN] iter=2780/3000 avg_loss=0.0084 avg_dice=0.7107\n"
     ]
    },
    {
     "name": "stdout",
     "output_type": "stream",
     "text": [
      "[TRAIN] iter=2790/3000 avg_loss=0.0080 avg_dice=0.7118\n"
     ]
    },
    {
     "name": "stdout",
     "output_type": "stream",
     "text": [
      "[TRAIN] iter=2800/3000 avg_loss=0.0077 avg_dice=0.7125\n"
     ]
    },
    {
     "name": "stdout",
     "output_type": "stream",
     "text": [
      "[EVAL] iter=2800/3000 avg_loss=0.1039 dice=0.6530\n"
     ]
    },
    {
     "name": "stdout",
     "output_type": "stream",
     "text": [
      "[TRAIN] iter=2810/3000 avg_loss=0.0079 avg_dice=0.7118\n"
     ]
    },
    {
     "name": "stdout",
     "output_type": "stream",
     "text": [
      "[TRAIN] iter=2820/3000 avg_loss=0.0076 avg_dice=0.7117\n"
     ]
    },
    {
     "name": "stdout",
     "output_type": "stream",
     "text": [
      "[TRAIN] iter=2830/3000 avg_loss=0.0077 avg_dice=0.7124\n"
     ]
    },
    {
     "name": "stdout",
     "output_type": "stream",
     "text": [
      "[TRAIN] iter=2840/3000 avg_loss=0.0076 avg_dice=0.7125\n"
     ]
    },
    {
     "name": "stdout",
     "output_type": "stream",
     "text": [
      "[TRAIN] iter=2850/3000 avg_loss=0.0080 avg_dice=0.7117\n"
     ]
    },
    {
     "name": "stdout",
     "output_type": "stream",
     "text": [
      "[EVAL] iter=2850/3000 avg_loss=0.1043 dice=0.6570\n"
     ]
    },
    {
     "name": "stdout",
     "output_type": "stream",
     "text": [
      "[TRAIN] iter=2860/3000 avg_loss=0.0101 avg_dice=0.7089\n"
     ]
    },
    {
     "name": "stdout",
     "output_type": "stream",
     "text": [
      "[TRAIN] iter=2870/3000 avg_loss=0.0102 avg_dice=0.7077\n"
     ]
    },
    {
     "name": "stdout",
     "output_type": "stream",
     "text": [
      "[TRAIN] iter=2880/3000 avg_loss=0.0113 avg_dice=0.7074\n"
     ]
    },
    {
     "name": "stdout",
     "output_type": "stream",
     "text": [
      "[TRAIN] iter=2890/3000 avg_loss=0.0112 avg_dice=0.7082\n"
     ]
    },
    {
     "name": "stdout",
     "output_type": "stream",
     "text": [
      "[TRAIN] iter=2900/3000 avg_loss=0.0120 avg_dice=0.7080\n"
     ]
    },
    {
     "name": "stdout",
     "output_type": "stream",
     "text": [
      "[EVAL] iter=2900/3000 avg_loss=0.1059 dice=0.6505\n"
     ]
    },
    {
     "name": "stdout",
     "output_type": "stream",
     "text": [
      "[TRAIN] iter=2910/3000 avg_loss=0.0121 avg_dice=0.7076\n"
     ]
    },
    {
     "name": "stdout",
     "output_type": "stream",
     "text": [
      "[TRAIN] iter=2920/3000 avg_loss=0.0107 avg_dice=0.7088\n"
     ]
    },
    {
     "name": "stdout",
     "output_type": "stream",
     "text": [
      "[TRAIN] iter=2930/3000 avg_loss=0.0098 avg_dice=0.7101\n"
     ]
    },
    {
     "name": "stdout",
     "output_type": "stream",
     "text": [
      "[TRAIN] iter=2940/3000 avg_loss=0.0086 avg_dice=0.7105\n"
     ]
    },
    {
     "name": "stdout",
     "output_type": "stream",
     "text": [
      "[TRAIN] iter=2950/3000 avg_loss=0.0088 avg_dice=0.7111\n"
     ]
    },
    {
     "name": "stdout",
     "output_type": "stream",
     "text": [
      "[EVAL] iter=2950/3000 avg_loss=0.1130 dice=0.6528\n"
     ]
    },
    {
     "name": "stdout",
     "output_type": "stream",
     "text": [
      "[TRAIN] iter=2960/3000 avg_loss=0.0082 avg_dice=0.7124\n"
     ]
    },
    {
     "name": "stdout",
     "output_type": "stream",
     "text": [
      "[TRAIN] iter=2970/3000 avg_loss=0.0078 avg_dice=0.7121\n"
     ]
    },
    {
     "name": "stdout",
     "output_type": "stream",
     "text": [
      "[TRAIN] iter=2980/3000 avg_loss=0.0081 avg_dice=0.7112\n"
     ]
    },
    {
     "name": "stdout",
     "output_type": "stream",
     "text": [
      "[TRAIN] iter=2990/3000 avg_loss=0.0072 avg_dice=0.7132\n"
     ]
    },
    {
     "name": "stdout",
     "output_type": "stream",
     "text": [
      "[TRAIN] iter=3000/3000 avg_loss=0.0078 avg_dice=0.7116\n"
     ]
    },
    {
     "name": "stdout",
     "output_type": "stream",
     "text": [
      "[EVAL] iter=3000/3000 avg_loss=0.1034 dice=0.6619\n"
     ]
    }
   ],
   "source": [
    "# 训练阶段\n",
    "# 生成训练集和验证集\n",
    "train_dataset = OCTDataset(image_file = images_file,\n",
    "                        gt_path = gt_file,\n",
    "                        filelists=train_filelists)\n",
    "\n",
    "val_dataset = OCTDataset(image_file = images_file,\n",
    "                        gt_path = gt_file,\n",
    "                        filelists=val_filelists)\n",
    "\n",
    "# 加载数据\n",
    "train_loader = paddle.io.DataLoader(\n",
    "    train_dataset,\n",
    "    batch_sampler=paddle.io.DistributedBatchSampler(train_dataset, batch_size=BATCH_SIZE, shuffle=True, drop_last=False),\n",
    "    num_workers=num_workers,\n",
    "    return_list=True,\n",
    "    use_shared_memory=False\n",
    ")\n",
    "\n",
    "val_loader = paddle.io.DataLoader(\n",
    "    val_dataset,\n",
    "    batch_sampler=paddle.io.DistributedBatchSampler(val_dataset, batch_size=BATCH_SIZE, shuffle=True, drop_last=False),\n",
    "    num_workers=num_workers,\n",
    "    return_list=True,\n",
    "    use_shared_memory=False\n",
    ")\n",
    "\n",
    "model = OCT_Layer_UNet(num_classes=4)\n",
    "\n",
    "if optimizer_type == \"adam\":\n",
    "    optimizer = paddle.optimizer.Adam(init_lr, parameters=model.parameters())\n",
    "\n",
    "criterion = nn.CrossEntropyLoss(axis=1)\n",
    "metric = DiceLoss()\n",
    "\n",
    "# 开始训练\n",
    "train(model, iters, train_loader, val_loader, optimizer, criterion, metric, log_interval=10, evl_interval=50)"
   ]
  },
  {
   "cell_type": "code",
   "execution_count": 11,
   "id": "f546ea7f",
   "metadata": {
    "collapsed": false,
    "execution": {
     "iopub.execute_input": "2023-10-16T02:50:12.053930Z",
     "iopub.status.busy": "2023-10-16T02:50:12.053391Z",
     "iopub.status.idle": "2023-10-16T02:50:12.146021Z",
     "shell.execute_reply": "2023-10-16T02:50:12.146569Z"
    },
    "papermill": {
     "duration": 0.12071,
     "end_time": "2023-10-16T02:50:12.146735",
     "exception": false,
     "start_time": "2023-10-16T02:50:12.026025",
     "status": "completed"
    },
    "tags": []
   },
   "outputs": [
    {
     "ename": "ValueError",
     "evalue": "(InvalidArgument) Deserialize to tensor failed, maybe the loaded file is not a paddle model(expected file format: 0, but 4237624448 found).\n  [Hint: Expected version == 0U, but received version:4237624448 != 0U:0.] (at /paddle/paddle/fluid/framework/lod_tensor.cc:276)\n  [operator < load > error]",
     "output_type": "error",
     "traceback": [
      "\u001b[0;31m---------------------------------------------------------------------------\u001b[0m",
      "\u001b[0;31mValueError\u001b[0m                                Traceback (most recent call last)",
      "\u001b[0;32m/tmp/ipykernel_362/3356479171.py\u001b[0m in \u001b[0;36m<module>\u001b[0;34m\u001b[0m\n\u001b[1;32m      4\u001b[0m \u001b[0mbest_model_path\u001b[0m \u001b[0;34m=\u001b[0m \u001b[0;34m\"work/task_models/\"\u001b[0m\u001b[0;34m\u001b[0m\u001b[0;34m\u001b[0m\u001b[0m\n\u001b[1;32m      5\u001b[0m \u001b[0mmodel\u001b[0m \u001b[0;34m=\u001b[0m \u001b[0mOCT_Layer_UNet\u001b[0m\u001b[0;34m(\u001b[0m\u001b[0mnum_classes\u001b[0m \u001b[0;34m=\u001b[0m \u001b[0;36m4\u001b[0m\u001b[0;34m)\u001b[0m\u001b[0;34m\u001b[0m\u001b[0;34m\u001b[0m\u001b[0m\n\u001b[0;32m----> 6\u001b[0;31m \u001b[0mpara_state_dict\u001b[0m \u001b[0;34m=\u001b[0m \u001b[0mpaddle\u001b[0m\u001b[0;34m.\u001b[0m\u001b[0mload\u001b[0m\u001b[0;34m(\u001b[0m\u001b[0mbest_model_path\u001b[0m\u001b[0;34m)\u001b[0m\u001b[0;34m\u001b[0m\u001b[0;34m\u001b[0m\u001b[0m\n\u001b[0m\u001b[1;32m      7\u001b[0m \u001b[0mmodel\u001b[0m\u001b[0;34m.\u001b[0m\u001b[0mset_state_dict\u001b[0m\u001b[0;34m(\u001b[0m\u001b[0mpara_state_dict\u001b[0m\u001b[0;34m)\u001b[0m\u001b[0;34m\u001b[0m\u001b[0;34m\u001b[0m\u001b[0m\n\u001b[1;32m      8\u001b[0m \u001b[0mmodel\u001b[0m\u001b[0;34m.\u001b[0m\u001b[0meval\u001b[0m\u001b[0;34m(\u001b[0m\u001b[0;34m)\u001b[0m\u001b[0;34m\u001b[0m\u001b[0;34m\u001b[0m\u001b[0m\n",
      "\u001b[0;32m/opt/conda/envs/python35-paddle120-env/lib/python3.7/site-packages/paddle/framework/io.py\u001b[0m in \u001b[0;36mload\u001b[0;34m(path, **configs)\u001b[0m\n\u001b[1;32m   1002\u001b[0m \u001b[0;34m\u001b[0m\u001b[0m\n\u001b[1;32m   1003\u001b[0m     \u001b[0;32melse\u001b[0m\u001b[0;34m:\u001b[0m\u001b[0;34m\u001b[0m\u001b[0;34m\u001b[0m\u001b[0m\n\u001b[0;32m-> 1004\u001b[0;31m         \u001b[0mload_result\u001b[0m \u001b[0;34m=\u001b[0m \u001b[0m_legacy_load\u001b[0m\u001b[0;34m(\u001b[0m\u001b[0mpath\u001b[0m\u001b[0;34m,\u001b[0m \u001b[0;34m**\u001b[0m\u001b[0mconfigs\u001b[0m\u001b[0;34m)\u001b[0m\u001b[0;34m\u001b[0m\u001b[0;34m\u001b[0m\u001b[0m\n\u001b[0m\u001b[1;32m   1005\u001b[0m \u001b[0;34m\u001b[0m\u001b[0m\n\u001b[1;32m   1006\u001b[0m     \u001b[0;32mreturn\u001b[0m \u001b[0mload_result\u001b[0m\u001b[0;34m\u001b[0m\u001b[0;34m\u001b[0m\u001b[0m\n",
      "\u001b[0;32m/opt/conda/envs/python35-paddle120-env/lib/python3.7/site-packages/paddle/framework/io.py\u001b[0m in \u001b[0;36m_legacy_load\u001b[0;34m(path, **configs)\u001b[0m\n\u001b[1;32m   1045\u001b[0m             \u001b[0;31m# variable list in dygraph mode is difficult, we recommend users to use\u001b[0m\u001b[0;34m\u001b[0m\u001b[0;34m\u001b[0m\u001b[0;34m\u001b[0m\u001b[0m\n\u001b[1;32m   1046\u001b[0m             \u001b[0;31m# paddle.static.load_program_state in this case\u001b[0m\u001b[0;34m\u001b[0m\u001b[0;34m\u001b[0m\u001b[0;34m\u001b[0m\u001b[0m\n\u001b[0;32m-> 1047\u001b[0;31m             \u001b[0mload_result\u001b[0m \u001b[0;34m=\u001b[0m \u001b[0m_load_state_dict_from_save_params\u001b[0m\u001b[0;34m(\u001b[0m\u001b[0mmodel_path\u001b[0m\u001b[0;34m)\u001b[0m\u001b[0;34m\u001b[0m\u001b[0;34m\u001b[0m\u001b[0m\n\u001b[0m\u001b[1;32m   1048\u001b[0m \u001b[0;34m\u001b[0m\u001b[0m\n\u001b[1;32m   1049\u001b[0m     \u001b[0;32mreturn\u001b[0m \u001b[0mload_result\u001b[0m\u001b[0;34m\u001b[0m\u001b[0;34m\u001b[0m\u001b[0m\n",
      "\u001b[0;32m/opt/conda/envs/python35-paddle120-env/lib/python3.7/site-packages/paddle/framework/io.py\u001b[0m in \u001b[0;36m_load_state_dict_from_save_params\u001b[0;34m(model_path)\u001b[0m\n\u001b[1;32m    118\u001b[0m                 \u001b[0minputs\u001b[0m\u001b[0;34m=\u001b[0m\u001b[0;34m{\u001b[0m\u001b[0;34m}\u001b[0m\u001b[0;34m,\u001b[0m\u001b[0;34m\u001b[0m\u001b[0;34m\u001b[0m\u001b[0m\n\u001b[1;32m    119\u001b[0m                 \u001b[0moutputs\u001b[0m\u001b[0;34m=\u001b[0m\u001b[0;34m{\u001b[0m\u001b[0;34m'Out'\u001b[0m\u001b[0;34m:\u001b[0m \u001b[0mnew_var\u001b[0m\u001b[0;34m}\u001b[0m\u001b[0;34m,\u001b[0m\u001b[0;34m\u001b[0m\u001b[0;34m\u001b[0m\u001b[0m\n\u001b[0;32m--> 120\u001b[0;31m                 attrs={'file_path': os.path.join(model_path, name)})\n\u001b[0m\u001b[1;32m    121\u001b[0m             \u001b[0mload_var_list\u001b[0m\u001b[0;34m.\u001b[0m\u001b[0mappend\u001b[0m\u001b[0;34m(\u001b[0m\u001b[0mnew_var\u001b[0m\u001b[0;34m)\u001b[0m\u001b[0;34m\u001b[0m\u001b[0;34m\u001b[0m\u001b[0m\n\u001b[1;32m    122\u001b[0m \u001b[0;34m\u001b[0m\u001b[0m\n",
      "\u001b[0;32m/opt/conda/envs/python35-paddle120-env/lib/python3.7/site-packages/paddle/fluid/dygraph/tracer.py\u001b[0m in \u001b[0;36mtrace_op\u001b[0;34m(self, type, inputs, outputs, attrs, stop_gradient, inplace_map)\u001b[0m\n\u001b[1;32m    307\u001b[0m             self.trace(type, inputs, outputs, attrs,\n\u001b[1;32m    308\u001b[0m                        \u001b[0mframework\u001b[0m\u001b[0;34m.\u001b[0m\u001b[0m_current_expected_place\u001b[0m\u001b[0;34m(\u001b[0m\u001b[0;34m)\u001b[0m\u001b[0;34m,\u001b[0m \u001b[0mself\u001b[0m\u001b[0;34m.\u001b[0m\u001b[0m_has_grad\u001b[0m \u001b[0;32mand\u001b[0m\u001b[0;34m\u001b[0m\u001b[0;34m\u001b[0m\u001b[0m\n\u001b[0;32m--> 309\u001b[0;31m                        not stop_gradient, inplace_map if inplace_map else {})\n\u001b[0m\u001b[1;32m    310\u001b[0m \u001b[0;34m\u001b[0m\u001b[0m\n\u001b[1;32m    311\u001b[0m     \u001b[0;32mdef\u001b[0m \u001b[0mtrain_mode\u001b[0m\u001b[0;34m(\u001b[0m\u001b[0mself\u001b[0m\u001b[0;34m)\u001b[0m\u001b[0;34m:\u001b[0m\u001b[0;34m\u001b[0m\u001b[0;34m\u001b[0m\u001b[0m\n",
      "\u001b[0;31mValueError\u001b[0m: (InvalidArgument) Deserialize to tensor failed, maybe the loaded file is not a paddle model(expected file format: 0, but 4237624448 found).\n  [Hint: Expected version == 0U, but received version:4237624448 != 0U:0.] (at /paddle/paddle/fluid/framework/lod_tensor.cc:276)\n  [operator < load > error]"
     ]
    }
   ],
   "source": [
    "# 预测阶段\n",
    "# 加载模型参数\n",
    "test_file = 'work/Validation/Image'  # 测试图像路径\n",
    "best_model_path = \"work/task_models/\"\n",
    "model = OCT_Layer_UNet(num_classes = 4)\n",
    "para_state_dict = paddle.load(best_model_path)\n",
    "model.set_state_dict(para_state_dict)\n",
    "model.eval()\n",
    "\n",
    "# 生成测试集\n",
    "\n",
    "test_dataset = OCTDataset(image_file = test_file,\n",
    "                            mode='test')\n",
    "# 一张一张分割测试集中的图像\n",
    "# 分割结果存储格式为png\n",
    "\n",
    "for img, idx, h, w in test_dataset:\n",
    "    # print(idx)\n",
    "    img = img[np.newaxis, ...]\n",
    "    img = paddle.to_tensor((img / 255.).astype(\"float32\"))\n",
    "    logits = model(img)\n",
    "    pred_img = logits.numpy().argmax(1)\n",
    "    pred_gray = np.squeeze(pred_img, axis=0)\n",
    "    pred_gray = pred_gray.astype('float32')\n",
    "    # print(pred_gray.shape)\n",
    "    pred_gray[pred_gray == 1] = 80\n",
    "    pred_gray[pred_gray == 2] = 160\n",
    "    pred_gray[pred_gray == 3] = 255\n",
    "    # print(pred_gray)\n",
    "    pred_ = cv2.resize(pred_gray, (w, h))\n",
    "    # print(pred_.shape)\n",
    "    cv2.imwrite('work/Validation/Output_Marks/'+idx, pred_)"
   ]
  },
  {
   "cell_type": "markdown",
   "execution_count": null,
   "id": "c9a80c83",
   "metadata": {
    "collapsed": false,
    "papermill": {
     "duration": 0.018895,
     "end_time": "2023-10-16T02:50:12.186067",
     "exception": false,
     "start_time": "2023-10-16T02:50:12.167172",
     "status": "completed"
    },
    "tags": []
   },
   "outputs": null,
   "source": [
    "请点击[此处](https://ai.baidu.com/docs#/AIStudio_Project_Notebook/a38e5576)查看本环境基本用法.  <br>\n",
    "Please click [here ](https://ai.baidu.com/docs#/AIStudio_Project_Notebook/a38e5576) for more detailed instructions. "
   ]
  }
 ],
 "metadata": {
  "kernelspec": {
   "display_name": "Python 3",
   "language": "python",
   "name": "py35-paddle1.2.0"
  },
  "language_info": {
   "codemirror_mode": {
    "name": "ipython",
    "version": 3
   },
   "file_extension": ".py",
   "mimetype": "text/x-python",
   "name": "python",
   "nbconvert_exporter": "python",
   "pygments_lexer": "ipython3",
   "version": "3.7.4"
  },
  "papermill": {
   "default_parameters": {},
   "duration": 434.457227,
   "end_time": "2023-10-16T02:50:15.512790",
   "environment_variables": {},
   "exception": null,
   "input_path": "/home/aistudio/6889811.ipynb",
   "output_path": "/home/aistudio/.6889811.ipynb",
   "parameters": {},
   "start_time": "2023-10-16T02:43:01.055563",
   "version": "2.3.4"
  }
 },
 "nbformat": 4,
 "nbformat_minor": 5
}