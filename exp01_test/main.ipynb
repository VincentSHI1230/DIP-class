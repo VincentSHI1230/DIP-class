{
 "cells": [
  {
   "cell_type": "markdown",
   "metadata": {},
   "source": [
    "# Python U-Net 网络图像分割实验 - 以眼底 OCT 图像为例\n",
    "\n",
    "> Copyright (c) 2023 Vincent SHI | 史文朔\n",
    "\n",
    "本实验是基于 Python 语言的 U-Net 网络图像分割实验，以眼底 OCT 图像为例，实现了 U-Net 网络的训练、测试等功能，并以此对 Python 语言的基本语法、图像处理等知识进行了综合性的实践。\n",
    "\n",
    "本实验依赖眼底 OCT 图像数据集，建议同学们通过参加相关竞赛自行获取。\n"
   ]
  },
  {
   "cell_type": "markdown",
   "metadata": {},
   "source": [
    "## 实验目的\n",
    "\n",
    "通过本实验，你必须要掌握：\n",
    "\n",
    "- Python 语言的基本语法\n",
    "- Python 语言的基本图像处理\n",
    "  - 图像读取\n",
    "  - 图像显示\n",
    "  - 图像标注\n",
    "  - 图像保存\n",
    "- 诸如 U-Net 等深度学习网络的基本定义\n",
    "- Python 机器学习生态库的基本调用\n",
    "\n",
    "同时，建议你掌握：\n",
    "\n",
    "- Python 语言的基本科学计算库\n",
    "- Python 语言的基本深度学习库\n",
    "- U-Net 等深度学习网络的基本训练方法\n",
    "- U-Net 等深度学习网络的基本原理\n",
    "\n",
    "你可以先不必掌握：\n",
    "\n",
    "- Python 图像处理库的内部实现\n",
    "- U-Net 等深度学习网络的数学理论基础\n"
   ]
  },
  {
   "cell_type": "markdown",
   "metadata": {},
   "source": [
    "## 实验步骤\n",
    "\n",
    "- 引用相关库\n",
    "\n",
    "- 图片的读取和预处理\n",
    "\n",
    "- 划分训练和测试集\n",
    "\n",
    "- 定义 U-Net 网络\n",
    "\n",
    "- 进行训练和测试\n",
    "\n",
    "- 对验证集进行预测\n",
    "\n",
    "- 输出预测结果\n"
   ]
  },
  {
   "cell_type": "markdown",
   "metadata": {},
   "source": [
    "## 实验代码样例\n",
    "\n",
    "### 引用相关库\n"
   ]
  },
  {
   "cell_type": "code",
   "execution_count": null,
   "metadata": {},
   "outputs": [],
   "source": []
  },
  {
   "cell_type": "markdown",
   "metadata": {},
   "source": [
    "### 图片的读取和预处理\n"
   ]
  },
  {
   "cell_type": "code",
   "execution_count": null,
   "metadata": {},
   "outputs": [],
   "source": []
  },
  {
   "cell_type": "markdown",
   "metadata": {},
   "source": [
    "### 划分训练和测试集\n"
   ]
  },
  {
   "cell_type": "code",
   "execution_count": null,
   "metadata": {},
   "outputs": [],
   "source": []
  },
  {
   "cell_type": "markdown",
   "metadata": {},
   "source": [
    "### 定义 U-Net 网络\n"
   ]
  },
  {
   "cell_type": "code",
   "execution_count": null,
   "metadata": {},
   "outputs": [],
   "source": []
  },
  {
   "cell_type": "markdown",
   "metadata": {},
   "source": [
    "### 进行训练和测试\n"
   ]
  },
  {
   "cell_type": "code",
   "execution_count": null,
   "metadata": {},
   "outputs": [],
   "source": []
  },
  {
   "cell_type": "markdown",
   "metadata": {},
   "source": [
    "### 对验证集进行预测\n"
   ]
  },
  {
   "cell_type": "code",
   "execution_count": null,
   "metadata": {},
   "outputs": [],
   "source": []
  },
  {
   "cell_type": "markdown",
   "metadata": {},
   "source": [
    "### 输出预测结果\n"
   ]
  },
  {
   "cell_type": "code",
   "execution_count": null,
   "metadata": {},
   "outputs": [],
   "source": []
  }
 ],
 "metadata": {
  "kernelspec": {
   "display_name": "Python 3",
   "language": "python",
   "name": "python3"
  },
  "language_info": {
   "codemirror_mode": {
    "name": "ipython",
    "version": 3
   },
   "file_extension": ".py",
   "mimetype": "text/x-python",
   "name": "python",
   "nbconvert_exporter": "python",
   "pygments_lexer": "ipython3",
   "version": "3.10.4"
  }
 },
 "nbformat": 4,
 "nbformat_minor": 2
}
